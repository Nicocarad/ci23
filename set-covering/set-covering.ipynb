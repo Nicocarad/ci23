{
 "cells": [
  {
   "cell_type": "markdown",
   "metadata": {},
   "source": [
    "Copyright **`(c)`** 2023 Giovanni Squillero `<giovanni.squillero@polito.it>`  \n",
    "[`https://github.com/squillero/computational-intelligence`](https://github.com/squillero/computational-intelligence)  \n",
    "Free for personal or classroom use; see [`LICENSE.md`](https://github.com/squillero/computational-intelligence/blob/master/LICENSE.md) for details.  "
   ]
  },
  {
   "cell_type": "code",
   "execution_count": 33,
   "metadata": {},
   "outputs": [],
   "source": [
    "from random import random\n",
    "from functools import reduce\n",
    "from collections import namedtuple\n",
    "from queue import PriorityQueue, SimpleQueue, LifoQueue\n",
    "\n",
    "import numpy as np"
   ]
  },
  {
   "cell_type": "markdown",
   "metadata": {},
   "source": [
    "State: Pieces taken / Pieces not taken\n",
    "\n",
    "Defining the problem:\n",
    "\n",
    "We are creating a set of PROBLEM_SIZE dimension: ----------\n",
    "We are defining a some small segment:            -- \n",
    "                                                   ---\n",
    "                                                     ----\n",
    "                                                  --     \n",
    "                                                        ---\n",
    "                                                    ------\n",
    "                                                      -- \n",
    "                                                 -----\n",
    "to rapresent this problem, we can consider an array of boolean with dimension PROBLEM_SIZE that would look like something like [True, True, True, True, True]\n",
    "and some subsegment that will be rapresented as [True,False,False,False,False]"
   ]
  },
  {
   "cell_type": "code",
   "execution_count": 34,
   "metadata": {},
   "outputs": [],
   "source": [
    "PROBLEM_SIZE = 5 # \"length of the segment\"\n",
    "NUM_SETS = 10    # \"nuber of pieces\"\n",
    "SETS = tuple(np.array([random() < .3 for _ in range(PROBLEM_SIZE)]) for _ in range(NUM_SETS))\n",
    "State = namedtuple('State', ['taken', 'not_taken'])\n",
    "\n",
    "St = ({1,3}, {2,4,5}) # a possible state is to take some sets to cover the segment and not take"
   ]
  },
  {
   "cell_type": "markdown",
   "metadata": {},
   "source": [
    "Check state: create a function to check if a state is the goal one.\n",
    "\n",
    "[SETS[i] for i in state.taken] : takes the subsegments considering the segments specified in the state ( taken element )\n",
    "\n",
    "reduce(np.logical_or, [SETS[i] for i in state.taken]) performs an OR operation among the subsegments (in column), the result is an array of elements True and False, if all the elements are True it means that the subsegments in the current state covers the set.\n",
    "\n",
    ".all() returns True if all the elements are True and False otherwise.\n",
    "\n",
    "np.array([False for _ in range(PROBLEM_SIZE)]) initial value for reduce"
   ]
  },
  {
   "cell_type": "code",
   "execution_count": 35,
   "metadata": {},
   "outputs": [],
   "source": [
    "#define a function to check the goal state\n",
    "def goal_check(state):\n",
    "    return np.all(reduce(np.logical_or, [SETS[i] for i in state.taken], np.array([False for _ in range(PROBLEM_SIZE)])))"
   ]
  },
  {
   "cell_type": "markdown",
   "metadata": {},
   "source": [
    "We need to know if the problem is solvable, so we can try a set where all the subsegment are taken and no one is not taken.\n",
    "If the goal_check returns \"False\" it means that there is no a combination of subsegments that cover the set."
   ]
  },
  {
   "cell_type": "code",
   "execution_count": 36,
   "metadata": {},
   "outputs": [],
   "source": [
    "assert goal_check(State(set(range(NUM_SETS)), set())), \"Probelm not solvable\""
   ]
  },
  {
   "cell_type": "markdown",
   "metadata": {},
   "source": [
    "# Path Serach\n",
    "\n",
    "- Define the frontier\n",
    "- Define the initial state\n",
    "- Extract a state from the frontier\n",
    "- Check if the state is the solution\n",
    "- If not select an action\n",
    "- action -> new_state\n",
    "- put the new stte in the frontier"
   ]
  },
  {
   "cell_type": "code",
   "execution_count": 37,
   "metadata": {},
   "outputs": [],
   "source": [
    "frontier = PriorityQueue() #define a frontier,     Lifo --> Depth First, SimpleQueue --> Breadth First\n",
    "\n",
    "frontier.put(State(set(), set(range(NUM_SETS)))) #put the initial state in the frontier"
   ]
  },
  {
   "cell_type": "code",
   "execution_count": 38,
   "metadata": {},
   "outputs": [
    {
     "name": "stdout",
     "output_type": "stream",
     "text": [
      "Solved in 13 steps\n"
     ]
    }
   ],
   "source": [
    "\n",
    "\n",
    "counter = 0\n",
    "current_state = frontier.get()\n",
    "while not goal_check(current_state):\n",
    "    counter += 1\n",
    "    for action in current_state[1]:\n",
    "        new_state = State(current_state.taken ^ {action}, current_state.not_taken ^ {action})\n",
    "\n",
    "        frontier.put(new_state)\n",
    "    current_state = frontier.get()\n",
    "\n",
    "print(f\"Solved in {counter:,} steps\")\n"
   ]
  },
  {
   "cell_type": "code",
   "execution_count": 39,
   "metadata": {},
   "outputs": [
    {
     "data": {
      "text/plain": [
       "State(taken={9, 2, 7}, not_taken={0, 1, 3, 4, 5, 6, 8})"
      ]
     },
     "execution_count": 39,
     "metadata": {},
     "output_type": "execute_result"
    }
   ],
   "source": [
    "current_state"
   ]
  },
  {
   "cell_type": "code",
   "execution_count": 40,
   "metadata": {},
   "outputs": [
    {
     "data": {
      "text/plain": [
       "True"
      ]
     },
     "execution_count": 40,
     "metadata": {},
     "output_type": "execute_result"
    }
   ],
   "source": [
    "goal_check(current_state)"
   ]
  },
  {
   "cell_type": "code",
   "execution_count": null,
   "metadata": {},
   "outputs": [],
   "source": []
  },
  {
   "cell_type": "markdown",
   "metadata": {},
   "source": [
    "Cost: number of True element in the set"
   ]
  }
 ],
 "metadata": {
  "kernelspec": {
   "display_name": "ci-P-7LqQ3C-py3.11",
   "language": "python",
   "name": "python3"
  },
  "language_info": {
   "codemirror_mode": {
    "name": "ipython",
    "version": 3
   },
   "file_extension": ".py",
   "mimetype": "text/x-python",
   "name": "python",
   "nbconvert_exporter": "python",
   "pygments_lexer": "ipython3",
   "version": "3.12.0"
  }
 },
 "nbformat": 4,
 "nbformat_minor": 2
}
