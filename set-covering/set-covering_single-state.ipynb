{
 "cells": [
  {
   "cell_type": "markdown",
   "metadata": {},
   "source": [
    "Copyright **`(c)`** 2023 Giovanni Squillero `<giovanni.squillero@polito.it>`  \n",
    "[`https://github.com/squillero/computational-intelligence`](https://github.com/squillero/computational-intelligence)  \n",
    "Free for personal or classroom use; see [`LICENSE.md`](https://github.com/squillero/computational-intelligence/blob/master/LICENSE.md) for details.  "
   ]
  },
  {
   "cell_type": "code",
   "execution_count": 210,
   "metadata": {},
   "outputs": [],
   "source": [
    "from random import random, choice, randint\n",
    "from functools import reduce\n",
    "from collections import namedtuple\n",
    "from copy import copy\n",
    "\n",
    "import numpy as np"
   ]
  },
  {
   "cell_type": "markdown",
   "metadata": {},
   "source": [
    "# Set Covering with Single State\n",
    "\n",
    "- State: in this case the state is not a tuple (taken,not_taken) but simply an array of booleans where if the value at index 2 is True, it means that the set at index 2 has been taken"
   ]
  },
  {
   "cell_type": "code",
   "execution_count": 211,
   "metadata": {},
   "outputs": [],
   "source": [
    "PROBLEM_SIZE = 10\n",
    "NUM_SETS = 30\n",
    "SETS = tuple(np.array([random() < 0.3 for _ in range(PROBLEM_SIZE)]) for _ in range(NUM_SETS))"
   ]
  },
  {
   "cell_type": "markdown",
   "metadata": {},
   "source": [
    "# Quality Function"
   ]
  },
  {
   "cell_type": "code",
   "execution_count": 212,
   "metadata": {},
   "outputs": [],
   "source": [
    "#returns the \"quality\" of a candidate solution (only if it is valid)\n",
    "def evaluate(state):\n",
    "    cost = sum(state) # number of True value in the candidate solution --> number of sets taken to obtain the solution\n",
    "    valid = np.all(\n",
    "        reduce(\n",
    "            np.logical_or,\n",
    "            [SETS[i] for i, t in enumerate(state) if t],\n",
    "            np.array([False for _ in range(PROBLEM_SIZE)]),\n",
    "        )\n",
    "    ) # check if a candidate solution is valid --> the taken sets (corresponding to the indexes in state where the value is True) covers complitly the segment\n",
    "    return valid, -cost if valid else 0 # return the cost only if the candidate solution is valid"
   ]
  },
  {
   "cell_type": "markdown",
   "metadata": {},
   "source": [
    "# Tweak Function"
   ]
  },
  {
   "cell_type": "code",
   "execution_count": 213,
   "metadata": {},
   "outputs": [],
   "source": [
    "def tweak(state):\n",
    "    # Create a shallow copy of the 'state' object and assign it to the 'new_state' variable\n",
    "    new_state = copy(state)\n",
    "    index = randint(0, NUM_SETS - 1)\n",
    "    new_state[index] = not new_state[index] # sobsitute randomly a value in the state with a not operation True --> False / False --> True\n",
    "    # it means remove or add a set in the taken sets\n",
    "    return new_state"
   ]
  },
  {
   "cell_type": "code",
   "execution_count": 214,
   "metadata": {},
   "outputs": [
    {
     "name": "stdout",
     "output_type": "stream",
     "text": [
      "[True, False, True, True, True, True, True, False, True, True, False, False, True, False, False, True, False, True, False, False, False, False, False, False, True, True, False, True, True, True] (True, -16)\n",
      "[True, False, True, True, True, True, True, False, True, False, False, False, True, False, False, True, False, True, False, False, False, False, False, False, True, True, False, True, True, True] (True, -15)\n",
      "[True, False, False, True, True, True, True, False, True, False, False, False, True, False, False, True, False, True, False, False, False, False, False, False, True, True, False, True, True, True] (True, -14)\n",
      "[True, False, False, True, True, True, True, False, False, False, False, False, True, False, False, True, False, True, False, False, False, False, False, False, True, True, False, True, True, True] (True, -13)\n",
      "[True, False, False, True, True, True, True, False, False, False, False, False, True, False, False, True, False, True, False, False, False, False, False, False, True, True, False, False, True, True] (True, -12)\n",
      "[True, False, False, True, True, False, True, False, False, False, False, False, True, False, False, True, False, True, False, False, False, False, False, False, True, True, False, False, True, True] (True, -11)\n",
      "[True, False, False, True, True, False, True, False, False, False, False, False, True, False, False, True, False, True, False, False, False, False, False, False, True, False, False, False, True, True] (True, -10)\n",
      "[True, False, False, True, True, False, True, False, False, False, False, False, True, False, False, True, False, True, False, False, False, False, False, False, False, False, False, False, True, True] (True, -9)\n",
      "[True, False, False, True, True, False, True, False, False, False, False, False, False, False, False, True, False, True, False, False, False, False, False, False, False, False, False, False, True, True] (True, -8)\n",
      "[True, False, False, True, True, False, True, False, False, False, False, False, False, False, False, True, False, True, False, False, False, False, False, False, False, False, False, False, False, True] (True, -7)\n",
      "[True, False, False, True, True, False, True, False, False, False, False, False, False, False, False, True, False, True, False, False, False, False, False, False, False, False, False, False, False, False] (True, -6)\n",
      "[True, False, False, True, False, False, True, False, False, False, False, False, False, False, False, True, False, True, False, False, False, False, False, False, False, False, False, False, False, False] (True, -5)\n"
     ]
    }
   ],
   "source": [
    "current_state = [choice([True, False]) for _ in range(NUM_SETS)]\n",
    "print(current_state, evaluate(current_state))\n",
    "\n",
    "for step in range(100):\n",
    "    new_state = tweak(current_state)\n",
    "    if evaluate(new_state) >= evaluate(current_state):\n",
    "        current_state = new_state\n",
    "        print(current_state, evaluate(current_state))"
   ]
  },
  {
   "cell_type": "code",
   "execution_count": 215,
   "metadata": {},
   "outputs": [
    {
     "data": {
      "text/plain": [
       "[True,\n",
       " False,\n",
       " False,\n",
       " True,\n",
       " False,\n",
       " False,\n",
       " True,\n",
       " False,\n",
       " False,\n",
       " False,\n",
       " False,\n",
       " False,\n",
       " False,\n",
       " False,\n",
       " False,\n",
       " True,\n",
       " False,\n",
       " True,\n",
       " False,\n",
       " False,\n",
       " False,\n",
       " False,\n",
       " False,\n",
       " False,\n",
       " False,\n",
       " False,\n",
       " False,\n",
       " False,\n",
       " False,\n",
       " False]"
      ]
     },
     "execution_count": 215,
     "metadata": {},
     "output_type": "execute_result"
    }
   ],
   "source": [
    "current_state"
   ]
  },
  {
   "cell_type": "code",
   "execution_count": null,
   "metadata": {},
   "outputs": [],
   "source": []
  }
 ],
 "metadata": {
  "kernelspec": {
   "display_name": "Python 3 (ipykernel)",
   "language": "python",
   "name": "python3"
  },
  "language_info": {
   "codemirror_mode": {
    "name": "ipython",
    "version": 3
   },
   "file_extension": ".py",
   "mimetype": "text/x-python",
   "name": "python",
   "nbconvert_exporter": "python",
   "pygments_lexer": "ipython3",
   "version": "3.12.0"
  }
 },
 "nbformat": 4,
 "nbformat_minor": 4
}
