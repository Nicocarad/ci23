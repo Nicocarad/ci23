{
 "cells": [
  {
   "cell_type": "markdown",
   "metadata": {},
   "source": [
    "Copyright **`(c)`** 2023 Giovanni Squillero `<giovanni.squillero@polito.it>`  \n",
    "[`https://github.com/squillero/computational-intelligence`](https://github.com/squillero/computational-intelligence)  \n",
    "Free for personal or classroom use; see [`LICENSE.md`](https://github.com/squillero/computational-intelligence/blob/master/LICENSE.md) for details.  "
   ]
  },
  {
   "cell_type": "code",
   "execution_count": 1,
   "metadata": {},
   "outputs": [],
   "source": [
    "from itertools import combinations\n",
    "from collections import namedtuple, defaultdict\n",
    "from random import choice\n",
    "from copy import deepcopy\n",
    "\n",
    "from tqdm.auto import tqdm\n",
    "import numpy as np"
   ]
  },
  {
   "cell_type": "code",
   "execution_count": 2,
   "metadata": {},
   "outputs": [],
   "source": [
    "State = namedtuple('State', ['x', 'o'])"
   ]
  },
  {
   "cell_type": "code",
   "execution_count": 3,
   "metadata": {},
   "outputs": [],
   "source": [
    "MAGIC = [2, 7, 6, 9, 5, 1, 4, 3, 8]"
   ]
  },
  {
   "cell_type": "code",
   "execution_count": 4,
   "metadata": {},
   "outputs": [],
   "source": [
    "def print_board(pos):\n",
    "    \"\"\"Nicely prints the board\"\"\"\n",
    "    for r in range(3):\n",
    "        for c in range(3):\n",
    "            i = r * 3 + c\n",
    "            if MAGIC[i] in pos.x:\n",
    "                print('X', end='')\n",
    "            elif MAGIC[i] in pos.o:\n",
    "                print('O', end='')\n",
    "            else:\n",
    "                print('.', end='')\n",
    "        print()\n",
    "    print()"
   ]
  },
  {
   "cell_type": "code",
   "execution_count": 5,
   "metadata": {},
   "outputs": [],
   "source": [
    "def win(elements):\n",
    "    \"\"\"Checks is elements is winning\"\"\"\n",
    "    return any(sum(c) == 15 for c in combinations(elements, 3))\n",
    "\n",
    "def state_value(pos: State):\n",
    "    \"\"\"Evaluate state: +1 first player wins\"\"\"\n",
    "    if win(pos.x):\n",
    "        return 1\n",
    "    elif win(pos.o):\n",
    "        return -1\n",
    "    else:\n",
    "        return 0\n",
    "    \n",
    "    "
   ]
  },
  {
   "cell_type": "code",
   "execution_count": 6,
   "metadata": {},
   "outputs": [],
   "source": [
    "def random_game(starting_player):\n",
    "    trajectory = list()\n",
    "    state = State(set(), set())\n",
    "    available = set(range(1, 9+1))\n",
    "    players = [state.x, state.o] if starting_player == 'x' else [state.o, state.x]\n",
    "    while available:\n",
    "        for player in players:\n",
    "            move = choice(list(available))\n",
    "            player.add(move)\n",
    "            trajectory.append(deepcopy(state))\n",
    "            available.remove(move)\n",
    "            if win(player) or not available:\n",
    "                return trajectory"
   ]
  },
  {
   "cell_type": "code",
   "execution_count": 7,
   "metadata": {},
   "outputs": [
    {
     "data": {
      "application/vnd.jupyter.widget-view+json": {
       "model_id": "b8edf563b1124f038e4a70783dbfbc71",
       "version_major": 2,
       "version_minor": 0
      },
      "text/plain": [
       "  0%|          | 0/500000 [00:00<?, ?it/s]"
      ]
     },
     "metadata": {},
     "output_type": "display_data"
    }
   ],
   "source": [
    "value_dictionary = defaultdict(float)\n",
    "hit_state = defaultdict(int)\n",
    "epsilon = 0.001\n",
    "starting_player = 'x'\n",
    "for steps in tqdm(range(500_000)):\n",
    "    if starting_player == 'x':\n",
    "        starting_player = 'o'\n",
    "    else:\n",
    "        starting_player = 'x'\n",
    "    trajectory = random_game(starting_player)\n",
    "    final_reward = state_value(trajectory[-1])\n",
    "    for state in trajectory:\n",
    "        hashable_state = (frozenset(state.x), frozenset(state.o))\n",
    "        hit_state[hashable_state] += 1\n",
    "        value_dictionary[hashable_state] = value_dictionary[\n",
    "            hashable_state\n",
    "        ] + epsilon * (final_reward - value_dictionary[hashable_state])"
   ]
  },
  {
   "cell_type": "code",
   "execution_count": 8,
   "metadata": {},
   "outputs": [],
   "source": [
    "def test_players(value_dictionary, starting_player, epsilon=0.001):\n",
    "    state = State(set(), set())\n",
    "    available = set(range(1, 9+1))\n",
    "    players = [state.x, state.o] if starting_player == 'x' else [state.o, state.x]\n",
    "\n",
    "    while available:\n",
    "        for player in players:\n",
    "            if player == state.x:\n",
    "                # Random player's move\n",
    "                move = choice(list(available))\n",
    "            else:\n",
    "                # Player using value_dictionary's move\n",
    "                hashable_state = (frozenset(state.x), frozenset(state.o))\n",
    "                possible_moves = [move for move in available if (move,) not in hashable_state]\n",
    "                move = max(possible_moves, key=lambda move: value_dictionary[hashable_state + ((move,),)])\n",
    "\n",
    "            player.add(move)\n",
    "            available.remove(move)\n",
    "\n",
    "            # Check for win or end of the game\n",
    "            if win(player) or not available:\n",
    "                return state\n",
    "\n",
    "    return state"
   ]
  },
  {
   "cell_type": "code",
   "execution_count": 9,
   "metadata": {},
   "outputs": [
    {
     "name": "stdout",
     "output_type": "stream",
     "text": [
      "Results after 100 games:\n",
      "Player X wins: 19\n",
      "Player O wins: 62\n",
      "Draws: 19\n"
     ]
    }
   ],
   "source": [
    "def play_multiple_games(num_games, value_dictionary, epsilon=0.001):\n",
    "    wins_x = 0\n",
    "    wins_o = 0\n",
    "    draws = 0\n",
    "    starting_player = 'x'\n",
    "    for _ in range(num_games):\n",
    "        if starting_player == 'x':\n",
    "            starting_player = 'o'\n",
    "        else:\n",
    "            starting_player = 'x'\n",
    "        final_state = test_players(value_dictionary, epsilon)\n",
    "\n",
    "        if win(final_state.x):\n",
    "            wins_x += 1\n",
    "        elif win(final_state.o):\n",
    "            wins_o += 1\n",
    "        else:\n",
    "            draws += 1\n",
    "\n",
    "    print(f\"Results after {num_games} games:\")\n",
    "    print(f\"Player X wins: {wins_x}\")\n",
    "    print(f\"Player O wins: {wins_o}\")\n",
    "    print(f\"Draws: {draws}\")\n",
    "\n",
    "\n",
    "# Play 100 games and print statistics\n",
    "play_multiple_games(100, value_dictionary)\n"
   ]
  }
 ],
 "metadata": {
  "kernelspec": {
   "display_name": "ci-P-7LqQ3C-py3.11",
   "language": "python",
   "name": "python3"
  },
  "language_info": {
   "codemirror_mode": {
    "name": "ipython",
    "version": 3
   },
   "file_extension": ".py",
   "mimetype": "text/x-python",
   "name": "python",
   "nbconvert_exporter": "python",
   "pygments_lexer": "ipython3",
   "version": "3.12.0"
  }
 },
 "nbformat": 4,
 "nbformat_minor": 2
}
