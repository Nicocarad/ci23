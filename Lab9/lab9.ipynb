{
 "cells": [
  {
   "cell_type": "markdown",
   "metadata": {},
   "source": [
    "Copyright **`(c)`** 2023 Giovanni Squillero `<giovanni.squillero@polito.it>`  \n",
    "[`https://github.com/squillero/computational-intelligence`](https://github.com/squillero/computational-intelligence)  \n",
    "Free for personal or classroom use; see [`LICENSE.md`](https://github.com/squillero/computational-intelligence/blob/master/LICENSE.md) for details.  "
   ]
  },
  {
   "cell_type": "markdown",
   "metadata": {},
   "source": [
    "# LAB9\n",
    "\n",
    "Write a local-search algorithm (eg. an EA) able to solve the *Problem* instances 1, 2, 5, and 10 on a 1000-loci genomes, using a minimum number of fitness calls. That's all.\n",
    "\n",
    "### Deadlines:\n",
    "\n",
    "* Submission: Sunday, December 3 ([CET](https://www.timeanddate.com/time/zones/cet))\n",
    "* Reviews: Sunday, December 10 ([CET](https://www.timeanddate.com/time/zones/cet))\n",
    "\n",
    "Notes:\n",
    "\n",
    "* Reviews will be assigned  on Monday, December 4\n",
    "* You need to commit in order to be selected as a reviewer (ie. better to commit an empty work than not to commit)"
   ]
  },
  {
   "cell_type": "code",
   "execution_count": 91,
   "metadata": {},
   "outputs": [],
   "source": [
    "from random import choices\n",
    "from random import random, choice, randint, sample, uniform, seed\n",
    "from copy import copy\n",
    "from dataclasses import dataclass\n",
    "import matplotlib.pyplot as plt\n",
    "\n",
    "from tabulate import tabulate\n",
    "\n",
    "import lab9_lib\n"
   ]
  },
  {
   "cell_type": "code",
   "execution_count": 92,
   "metadata": {},
   "outputs": [],
   "source": [
    "OFFSPRING_SIZE = 60\n",
    "POPULATION_SIZE = 30\n",
    "MUTATION_PROBABILITY = .05\n",
    "NUM_LOCI = 1000\n",
    "PROBLEM = [1, 2, 5, 10]\n",
    "# seed(20)\n",
    "seed(20)\n"
   ]
  },
  {
   "cell_type": "markdown",
   "metadata": {},
   "source": [
    "## Individual\n",
    "\n",
    "- The individual is organized as a class where fitness is the fitness value of the individual and the genotype is a list of 1000 integers (0/1)\n",
    "- The individual also has a function to perform the mutation and a functon to perform the xover"
   ]
  },
  {
   "cell_type": "code",
   "execution_count": 93,
   "metadata": {},
   "outputs": [],
   "source": [
    "@dataclass\n",
    "class Individual:\n",
    "    fitness: tuple\n",
    "    genotype: list[int]\n",
    "\n",
    "# NOT USED\n",
    "def tournament_selection(population, tournament_size):\n",
    "    # Randomly select individuals for the tournament\n",
    "    tournament = sample(population, tournament_size)\n",
    "    # Return the individual with the highest fitness\n",
    "    return max(tournament, key=lambda ind: ind.fitness)\n",
    "\n",
    "\n",
    "def roulette_wheel_selection(population):\n",
    "    # Calculate the total fitness of the population\n",
    "    total_fitness = sum(ind.fitness for ind in population)\n",
    "    # Select a random value between 0 and the total fitness\n",
    "    selection_point = uniform(0, total_fitness)\n",
    "    # Go through the population and sum the fitness from 0, stop when the sum is greater than the selection point\n",
    "    current_sum = 0\n",
    "    for ind in population:\n",
    "        current_sum += ind.fitness\n",
    "        if current_sum > selection_point:\n",
    "            return ind\n",
    "\n",
    "\n",
    "# Given the genome, select randomly a gene and switch is value\n",
    "def mutate(ind: Individual) -> Individual:\n",
    "    offspring = copy(ind)\n",
    "    pos = randint(0, NUM_LOCI - 1)\n",
    "\n",
    "    if offspring.genotype[pos] == 1:\n",
    "        offspring.genotype[pos] = 0\n",
    "    else:\n",
    "        offspring.genotype[pos] = 1\n",
    "    offspring.fitness = None\n",
    "    return offspring\n",
    "\n",
    "\n",
    "# Give the genome of two individual, create a new offspring by removing a portion of the genome from Ind1 and substituting it with the corresponding portion of Ind2\n",
    "def one_cut_xover(ind1: Individual, ind2: Individual) -> Individual:\n",
    "    # Generate two random cut points within the genotype range\n",
    "    cut_point1, cut_point2 = sorted([randint(0, NUM_LOCI - 1) for _ in range(2)])\n",
    "\n",
    "    # Ensure cut points are within valid range\n",
    "    cut_point1 = max(0, cut_point1)\n",
    "    cut_point2 = min(NUM_LOCI, cut_point2)\n",
    "\n",
    "    # Perform crossover\n",
    "    offspring_genotype = (\n",
    "        ind1.genotype[:cut_point1]\n",
    "        + ind2.genotype[cut_point1:cut_point2]\n",
    "        + ind1.genotype[cut_point2:]\n",
    "    )\n",
    "\n",
    "    # Create the offspring\n",
    "    offspring = Individual(fitness=None, genotype=offspring_genotype)\n",
    "\n",
    "    assert len(offspring.genotype) == NUM_LOCI\n",
    "\n",
    "    return offspring"
   ]
  },
  {
   "cell_type": "markdown",
   "metadata": {},
   "source": [
    "## Initial Population\n",
    "\n",
    "- The initial population of size *POPULATON_SIZE* is created randomly with more probability to have a 0 then 1 in a locus\n",
    "- For each individual in the initial population, we evaluate the fitness\n",
    "\n"
   ]
  },
  {
   "cell_type": "code",
   "execution_count": 94,
   "metadata": {},
   "outputs": [],
   "source": [
    "def generate_init_population(fitness):\n",
    "    weights = [0.9,0.1]\n",
    "    population = [\n",
    "        Individual(\n",
    "            genotype = choices([0,1], weights=weights, k=NUM_LOCI),\n",
    "            fitness=None,\n",
    "        )\n",
    "        for _ in range(POPULATION_SIZE)\n",
    "    ]\n",
    "\n",
    "    for i in population:\n",
    "        i.fitness = fitness(i.genotype) \n",
    "    return population"
   ]
  },
  {
   "cell_type": "markdown",
   "metadata": {},
   "source": [
    "## EA-Algorithm\n",
    "- Given the initial population, the algorithm select wit a certain probability, to create a given number of offsprings using two different techniques (mutation,xover)\n",
    "- The population is extended with the offsprings and than it's trimmed, letting survive only the best individuals\n",
    "- The algorithm is stopped when there are no improvements in the fitness (0.5% of variations in fitness in the last 100 generations) or if the value of the fitenss reachs 1"
   ]
  },
  {
   "cell_type": "code",
   "execution_count": 95,
   "metadata": {},
   "outputs": [],
   "source": [
    "def evolutionary_algorithm(fitness, population):\n",
    "    generation = 0\n",
    "    fitness_history = []\n",
    "    while True:\n",
    "        offspring = []\n",
    "\n",
    "        for _ in range(OFFSPRING_SIZE):\n",
    "            if random() < MUTATION_PROBABILITY:\n",
    "                # mutation\n",
    "                parent = roulette_wheel_selection(population)\n",
    "                child = mutate(parent)\n",
    "            else:\n",
    "                # xover\n",
    "                parent1 = roulette_wheel_selection(population)\n",
    "                parent2 = roulette_wheel_selection(population)\n",
    "                child = one_cut_xover(parent1, parent2)\n",
    "            offspring.append(child)\n",
    "\n",
    "        for ind in offspring:\n",
    "            ind.fitness = fitness(ind.genotype)\n",
    "\n",
    "        population.extend(offspring)\n",
    "        population.sort(key=lambda ind: ind.fitness, reverse=True)\n",
    "\n",
    "        ind = population[0]\n",
    "\n",
    "        population = population[:POPULATION_SIZE]\n",
    "\n",
    "        current_fitness = ind.fitness\n",
    "\n",
    "        # Append the fitness to the history\n",
    "        fitness_history.append(current_fitness)\n",
    "\n",
    "    \n",
    "\n",
    "        # Check termination condition\n",
    "        if generation >= 600:\n",
    "            recent_fitness_variation = max(fitness_history[-600:]) - min(\n",
    "                fitness_history[-600:]\n",
    "            )\n",
    "            if (\n",
    "                recent_fitness_variation < 0.005 or current_fitness == 1\n",
    "            ):  # 0.5% variation or current_fitness is 1\n",
    "                print(\n",
    "                    f\"Terminating at generation {generation} due to low fitness variation or current_fitness reached 1.\"\n",
    "                )\n",
    "                break\n",
    "\n",
    "        generation += 1\n",
    "    return fitness_history"
   ]
  },
  {
   "cell_type": "markdown",
   "metadata": {},
   "source": [
    "# Problem Results\n",
    "\n",
    "- In this section the EA algorithm produces results for the different istances of the problem we have, showing results on a plot"
   ]
  },
  {
   "cell_type": "code",
   "execution_count": 96,
   "metadata": {},
   "outputs": [
    {
     "name": "stdout",
     "output_type": "stream",
     "text": [
      "Terminating at generation 2008 due to low fitness variation or current_fitness reached 1.\n",
      "Terminating at generation 3561 due to low fitness variation or current_fitness reached 1.\n",
      "Terminating at generation 5527 due to low fitness variation or current_fitness reached 1.\n",
      "Terminating at generation 7763 due to low fitness variation or current_fitness reached 1.\n"
     ]
    },
    {
     "data": {
      "image/png": "[encoded data removed]",
      "text/plain": [
       "<Figure size 640x480 with 1 Axes>"
      ]
     },
     "metadata": {},
     "output_type": "display_data"
    },
    {
     "name": "stdout",
     "output_type": "stream",
     "text": [
      "+-----------------------------+---------------+\n",
      "|      Problem Instance       | Final Fitness |\n",
      "+-----------------------------+---------------+\n",
      "| Problem Instance 1, 95.00%  |    120570     |\n",
      "| Problem Instance 2, 86.80%  |    213750     |\n",
      "| Problem Instance 5, 53.56%  |    331710     |\n",
      "| Problem Instance 10, 29.36% |    465870     |\n",
      "+-----------------------------+---------------+\n"
     ]
    }
   ],
   "source": [
    "problem_instances = PROBLEM\n",
    "fitness_histories = []\n",
    "call_history = []\n",
    "\n",
    "for instance in problem_instances:\n",
    "    # Initialize your problem here with the current instance\n",
    "    fitness = lab9_lib.make_problem(instance)\n",
    "\n",
    "    init_population = generate_init_population(fitness)\n",
    "\n",
    "    fitness_history = evolutionary_algorithm(fitness, init_population)\n",
    "\n",
    "    # Append the fitness history of this run to the fitness_histories list\n",
    "    fitness_histories.append(fitness_history)\n",
    "    \n",
    "    call_history.append(fitness.calls)\n",
    "\n",
    "# Plot the results\n",
    "for i, fitness_history in enumerate(fitness_histories):\n",
    "    plt.plot(fitness_history, label=f\"Problem Instance {problem_instances[i]}\")\n",
    "\n",
    "plt.title(\"Fitness over time for different problem instances\")\n",
    "plt.xlabel(\"Generation\")\n",
    "plt.ylabel(\"Fitness\")\n",
    "plt.legend()\n",
    "plt.show()\n",
    "\n",
    "\n",
    "table_data = []\n",
    "for i, instance in enumerate(problem_instances):\n",
    "    table_data.append([f\"Problem Instance {instance}, {fitness_histories[i][-1]:.2%}\", call_history[i]]) \n",
    "\n",
    "table_headers = [\"Problem Instance\", \"Final Fitness\", \"Fitness Calls\"]\n",
    "table = tabulate(table_data, headers=table_headers, tablefmt=\"pretty\")\n",
    "\n",
    "print(table)"
   ]
  }
 ],
 "metadata": {
  "kernelspec": {
   "display_name": "ci-fLJ3OwGs-py3.12",
   "language": "python",
   "name": "python3"
  },
  "language_info": {
   "codemirror_mode": {
    "name": "ipython",
    "version": 3
   },
   "file_extension": ".py",
   "mimetype": "text/x-python",
   "name": "python",
   "nbconvert_exporter": "python",
   "pygments_lexer": "ipython3",
   "version": "3.12.0"
  }
 },
 "nbformat": 4,
 "nbformat_minor": 2
}
