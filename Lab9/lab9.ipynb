{
 "cells": [
  {
   "cell_type": "markdown",
   "metadata": {},
   "source": [
    "Copyright **`(c)`** 2023 Giovanni Squillero `<giovanni.squillero@polito.it>`  \n",
    "[`https://github.com/squillero/computational-intelligence`](https://github.com/squillero/computational-intelligence)  \n",
    "Free for personal or classroom use; see [`LICENSE.md`](https://github.com/squillero/computational-intelligence/blob/master/LICENSE.md) for details.  "
   ]
  },
  {
   "cell_type": "markdown",
   "metadata": {},
   "source": [
    "# LAB9\n",
    "\n",
    "Write a local-search algorithm (eg. an EA) able to solve the *Problem* instances 1, 2, 5, and 10 on a 1000-loci genomes, using a minimum number of fitness calls. That's all.\n",
    "\n",
    "### Deadlines:\n",
    "\n",
    "* Submission: Sunday, December 3 ([CET](https://www.timeanddate.com/time/zones/cet))\n",
    "* Reviews: Sunday, December 10 ([CET](https://www.timeanddate.com/time/zones/cet))\n",
    "\n",
    "Notes:\n",
    "\n",
    "* Reviews will be assigned  on Monday, December 4\n",
    "* You need to commit in order to be selected as a reviewer (ie. better to commit an empty work than not to commit)"
   ]
  },
  {
   "cell_type": "code",
   "execution_count": 3,
   "metadata": {},
   "outputs": [],
   "source": [
    "from random import choices\n",
    "\n",
    "import lab9_lib"
   ]
  },
  {
   "cell_type": "code",
   "execution_count": 4,
   "metadata": {},
   "outputs": [
    {
     "name": "stdout",
     "output_type": "stream",
     "text": [
      "01011110110101111110010011001100011011101011010011: 9.11%\n",
      "01101110100001001001000000010110110001010110111010: 17.56%\n",
      "00111111110010110110111001101111001010001010110000: 23.33%\n",
      "10111001101001101110110001101110100110001100010101: 9.33%\n",
      "01100010111111100000111111110100010011000001101110: 15.33%\n",
      "11110000100101010111001011110100001001100100010001: 29.56%\n",
      "00110001010111111000100000100001100100011111101101: 7.33%\n",
      "11010101010110010010111010101001001001011100000011: 9.33%\n",
      "01110011010110100101111101010011110100010111110100: 19.11%\n",
      "10110110110010010001011100110101001010110001001000: 15.34%\n",
      "10\n"
     ]
    }
   ],
   "source": [
    "\n",
    "fitness = lab9_lib.make_problem(10)\n",
    "\n",
    "# Loop through 10 times, representing 10 individuals.\n",
    "for n in range(10):\n",
    "    # Generate an individual represented by a list of 50 genes, each being either 0 or 1,\n",
    "    # using the random.choices method which allows elements to be repeatedly chosen.\n",
    "    ind = choices([0, 1], k=50)\n",
    "    \n",
    "    # Join the individual's genes into a string and print the individual with its fitness value.\n",
    "    # The fitness is calculated by calling the `fitness` function on the individual `ind`.\n",
    "    print(f\"{''.join(str(g) for g in ind)}: {fitness(ind):.2%}\")\n",
    "\n",
    "# After evaluating all individuals, print the total number of calls made to the `fitness` function.\n",
    "# This might be used to track how many evaluations were done, for debugging or analysis purposes.\n",
    "print(fitness.calls)\n"
   ]
  },
  {
   "cell_type": "code",
   "execution_count": null,
   "metadata": {},
   "outputs": [],
   "source": []
  }
 ],
 "metadata": {
  "kernelspec": {
   "display_name": "ci-fLJ3OwGs-py3.12",
   "language": "python",
   "name": "python3"
  },
  "language_info": {
   "codemirror_mode": {
    "name": "ipython",
    "version": 3
   },
   "file_extension": ".py",
   "mimetype": "text/x-python",
   "name": "python",
   "nbconvert_exporter": "python",
   "pygments_lexer": "ipython3",
   "version": "3.12.0"
  }
 },
 "nbformat": 4,
 "nbformat_minor": 2
}
