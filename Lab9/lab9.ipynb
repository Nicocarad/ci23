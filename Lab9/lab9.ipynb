{
 "cells": [
  {
   "cell_type": "markdown",
   "metadata": {},
   "source": [
    "# LAB9\n",
    "\n",
    "Write a local-search algorithm (eg. an EA) able to solve the *Problem* instances 1, 2, 5, and 10 on a 1000-loci genomes, using a minimum number of fitness calls. That's all.\n",
    "\n",
    "\n",
    "The skeleton for this code was taken from https://github.com/squillero/computational-intelligence/blob/master/2023-24/set-covering_ea.ipynb"
   ]
  },
  {
   "cell_type": "code",
   "execution_count": 163,
   "metadata": {},
   "outputs": [],
   "source": [
    "from random import choices\n",
    "from random import random, randint, sample, uniform, seed\n",
    "from copy import copy\n",
    "from dataclasses import dataclass\n",
    "import matplotlib.pyplot as plt\n",
    "\n",
    "from tabulate import tabulate\n",
    "\n",
    "import lab9_lib\n"
   ]
  },
  {
   "cell_type": "markdown",
   "metadata": {},
   "source": [
    "# BLACK-BOX PROBLEM with EA\n",
    "\n",
    "- The goal of this implementation is to solve a problem with EA\n",
    "- The goal is to maximize the fitness of an individual, how the fitness is evaluated is not known since it is a black-box problem\n",
    "- An individual is has a genome of 1000 LOCI where a gene could be 0 or 1\n",
    "- As additional information we know that an individual with all ones will have fitness equal 1, this information is additional and must not be used in the implementation since it can be considered cheating.\n",
    "- We cannot use any method creating individuals, that gives an higher probability to have 1 as a gene but the algorithm must favor the survival of individuals with more ones by itself."
   ]
  },
  {
   "cell_type": "code",
   "execution_count": 164,
   "metadata": {},
   "outputs": [],
   "source": [
    "OFFSPRING_SIZE = 80\n",
    "POPULATION_SIZE = 40\n",
    "MUTATION_PROBABILITY = .10\n",
    "NUM_LOCI = 1000\n",
    "PROBLEM = [1, 2, 5, 10]\n",
    "seed(20)\n"
   ]
  },
  {
   "cell_type": "markdown",
   "metadata": {},
   "source": [
    "## Individual\n",
    "\n",
    "- The individual is organized as a class where fitness is the fitness value of the individual and the genotype is a list of 1000 integers (0/1)\n",
    "- The individual also has a function to perform the mutation and a functon to perform the xover\n",
    "- The individual also show the roulette wheel selection that is a tecnique to choose a parent in the population"
   ]
  },
  {
   "cell_type": "code",
   "execution_count": 165,
   "metadata": {},
   "outputs": [],
   "source": [
    "@dataclass\n",
    "class Individual:\n",
    "    fitness: tuple\n",
    "    genotype: list[int]\n",
    "\n",
    "# NOT USED\n",
    "def tournament_selection(population, tournament_size):\n",
    "    # Randomly select individuals for the tournament\n",
    "    tournament = sample(population, tournament_size)\n",
    "    # Return the individual with the highest fitness\n",
    "    return max(tournament, key=lambda ind: ind.fitness)\n",
    "\n",
    "\n",
    "# Select a parent in a random way, giving more probability to individuals with higher fitness\n",
    "def roulette_wheel_selection(population):\n",
    "    # Calculate the total fitness of the population (total numbers of the roulette wheel)\n",
    "    total_fitness = sum(ind.fitness for ind in population)\n",
    "    # Select a random value between 0 and the total fitness (select a random point in the roulette wheel, like throwing the ball in a real roulette wheel)\n",
    "    selection_point = uniform(0, total_fitness)\n",
    "    # Go through the population and sum the fitness from 0, stop when the sum is greater than the selection point\n",
    "    # An individual with a higher fitness will have a higher probability that sum will be greater than the selection point\n",
    "    current_sum = 0\n",
    "    for ind in population:\n",
    "        current_sum += ind.fitness\n",
    "        if current_sum > selection_point:\n",
    "            return ind\n",
    "\n",
    "\n",
    "# Given the genome, select randomly a gene and switch is value\n",
    "def mutate(ind: Individual) -> Individual:\n",
    "    offspring = copy(ind)\n",
    "    pos = randint(0, NUM_LOCI - 1)\n",
    "\n",
    "    if offspring.genotype[pos] == 1:\n",
    "        offspring.genotype[pos] = 0\n",
    "    else:\n",
    "        offspring.genotype[pos] = 1\n",
    "    offspring.fitness = None\n",
    "    return offspring\n",
    "\n",
    "\n",
    "# Give the genome of two individual, create a new offspring by removing a portion of the genome from Ind1 and substituting it with the corresponding portion of Ind2\n",
    "def n_cut_xover(ind1: Individual, ind2: Individual, n: int) -> Individual:\n",
    "    # Generate n random cut points within the genotype range\n",
    "    cut_points = sorted([randint(0, NUM_LOCI - 1) for _ in range(n)])\n",
    "\n",
    "    # Initialize an empty offspring genotype\n",
    "    offspring_genotype = []\n",
    "\n",
    "    # Alternate between parents for each segment\n",
    "    for i in range(n + 1):\n",
    "        # Determine the start and end of the segment\n",
    "        start = cut_points[i - 1] if i > 0 else 0\n",
    "        end = cut_points[i] if i < n else NUM_LOCI\n",
    "\n",
    "        # Add the segment from the appropriate parent to the offspring genotype\n",
    "        if i % 2 == 0:\n",
    "            offspring_genotype += ind1.genotype[start:end]\n",
    "        else:\n",
    "            offspring_genotype += ind2.genotype[start:end]\n",
    "\n",
    "    # Create the offspring\n",
    "    offspring = Individual(fitness=None, genotype=offspring_genotype)\n",
    "\n",
    "    assert len(offspring.genotype) == NUM_LOCI\n",
    "\n",
    "    return offspring"
   ]
  },
  {
   "cell_type": "markdown",
   "metadata": {},
   "source": [
    "## Initial Population\n",
    "\n",
    "- The initial population of size *POPULATON_SIZE* is created randomly with more probability to have a 0 then 1 in a locus\n",
    "- For each individual in the initial population, we evaluate the fitness\n",
    "- DISCLAIMER: creating an initial population with more zeros can be considered cheating because we know that these individuals will have a low value of fitness, by the way the intent of this choice is to appreciate how the algorithm increases the value of the fitness\n",
    "- This choice also affects the number of fitness calls because the \"plateau\" will be reached with more generations\n",
    "- Try the verision with uniform weights\n",
    "\n"
   ]
  },
  {
   "cell_type": "code",
   "execution_count": 166,
   "metadata": {},
   "outputs": [],
   "source": [
    "def generate_init_population(fitness):\n",
    "    weights = [0.9,0.1]\n",
    "    # weights = [0.5,0.5]\n",
    "    population = [\n",
    "        Individual(\n",
    "            genotype = choices([0,1], weights=weights, k=NUM_LOCI),\n",
    "            fitness=None,\n",
    "        )\n",
    "        for _ in range(POPULATION_SIZE)\n",
    "    ]\n",
    "\n",
    "    for i in population:\n",
    "        i.fitness = fitness(i.genotype) \n",
    "    return population"
   ]
  },
  {
   "cell_type": "markdown",
   "metadata": {},
   "source": [
    "## EA-Algorithm\n",
    "- Given the initial population, the algorithm select with a certain probability, to create a given number of offsprings using two different techniques (mutation,xover)\n",
    "- The population is extended with the offsprings and than it's trimmed, letting survive only the best individuals\n",
    "- The algorithm is stopped when there are no improvements in the fitness (0.5% of variations in fitness in the last 600 generations) or if the value of the fitenss reachs 1"
   ]
  },
  {
   "cell_type": "code",
   "execution_count": 167,
   "metadata": {},
   "outputs": [],
   "source": [
    "def evolutionary_algorithm(fitness, population):\n",
    "    generation = 0\n",
    "    fitness_history = []\n",
    "    while True:\n",
    "        offspring = []\n",
    "\n",
    "        for _ in range(OFFSPRING_SIZE):\n",
    "            if random() < MUTATION_PROBABILITY:\n",
    "                # mutation\n",
    "                parent = roulette_wheel_selection(population)\n",
    "                child = mutate(parent)\n",
    "            else:\n",
    "                # xover\n",
    "                parent1 = roulette_wheel_selection(population)\n",
    "                parent2 = roulette_wheel_selection(population)\n",
    "                child = n_cut_xover(parent1, parent2, 6)\n",
    "            offspring.append(child)\n",
    "\n",
    "        for ind in offspring:\n",
    "            ind.fitness = fitness(ind.genotype)\n",
    "\n",
    "        population.extend(offspring) # add generated offspring to the population\n",
    "        population.sort(key=lambda ind: ind.fitness, reverse=True) # sort the population by fitness\n",
    "\n",
    "        ind = population[0] # get the best individual\n",
    "\n",
    "        population = population[:POPULATION_SIZE] # keep only the best POPULATION_SIZE individuals\n",
    "\n",
    "        current_fitness = ind.fitness\n",
    "\n",
    "        # Append the fitness to the history\n",
    "        fitness_history.append(current_fitness)\n",
    "\n",
    "        # Check termination condition\n",
    "        if generation >= 600:\n",
    "            recent_fitness_variation = max(fitness_history[-600:]) - min(\n",
    "                fitness_history[-600:]\n",
    "            )\n",
    "            if (\n",
    "                recent_fitness_variation < 0.005 or current_fitness == 1\n",
    "            ):  # 0.5% variation or current_fitness is 1\n",
    "                print(\n",
    "                    f\"Terminating at generation {generation} due to low fitness variation or current_fitness reached 1.\"\n",
    "                )\n",
    "                break\n",
    "\n",
    "        generation += 1\n",
    "    return fitness_history"
   ]
  },
  {
   "cell_type": "markdown",
   "metadata": {},
   "source": [
    "# Problem Results\n",
    "\n",
    "- In this section the EA algorithm produces results for the different istances of the problem we have, showing results on a plot"
   ]
  },
  {
   "cell_type": "code",
   "execution_count": 168,
   "metadata": {},
   "outputs": [
    {
     "name": "stdout",
     "output_type": "stream",
     "text": [
      "Terminating at generation 1482 due to low fitness variation or current_fitness reached 1.\n",
      "Terminating at generation 2259 due to low fitness variation or current_fitness reached 1.\n",
      "Terminating at generation 3321 due to low fitness variation or current_fitness reached 1.\n",
      "Terminating at generation 3960 due to low fitness variation or current_fitness reached 1.\n"
     ]
    },
    {
     "data": {
      "image/png": "[encoded data removed]",
      "text/plain": [
       "<Figure size 640x480 with 1 Axes>"
      ]
     },
     "metadata": {},
     "output_type": "display_data"
    },
    {
     "name": "stdout",
     "output_type": "stream",
     "text": [
      "+---------------------+---------------+---------------+\n",
      "|  Problem Instance   | Final Fitness | Fitness Calls |\n",
      "+---------------------+---------------+---------------+\n",
      "| Problem Instance 1  |    98.40%     |    118680     |\n",
      "| Problem Instance 2  |    90.80%     |    180840     |\n",
      "| Problem Instance 5  |    49.54%     |    265800     |\n",
      "| Problem Instance 10 |    25.13%     |    316920     |\n",
      "+---------------------+---------------+---------------+\n"
     ]
    }
   ],
   "source": [
    "problem_instances = PROBLEM\n",
    "fitness_histories = []\n",
    "call_history = []\n",
    "\n",
    "for instance in problem_instances:\n",
    "    # Initialize your problem here with the current instance\n",
    "    fitness = lab9_lib.make_problem(instance)\n",
    "\n",
    "    init_population = generate_init_population(fitness)\n",
    "\n",
    "    fitness_history = evolutionary_algorithm(fitness, init_population)\n",
    "\n",
    "    # Append the fitness history of this run to the fitness_histories list\n",
    "    fitness_histories.append(fitness_history)\n",
    "    \n",
    "    call_history.append(fitness.calls)\n",
    "\n",
    "# Plot the results\n",
    "for i, fitness_history in enumerate(fitness_histories):\n",
    "    plt.plot(fitness_history, label=f\"Problem Instance {problem_instances[i]}\")\n",
    "\n",
    "plt.title(\"Fitness over time for different problem instances\")\n",
    "plt.xlabel(\"Generation\")\n",
    "plt.ylabel(\"Fitness\")\n",
    "plt.legend()\n",
    "plt.show()\n",
    "\n",
    "\n",
    "table_data = []\n",
    "for i, instance in enumerate(problem_instances):\n",
    "    table_data.append([f\"Problem Instance {instance}\", f\"{fitness_histories[i][-1]:.2%}\", call_history[i]]) \n",
    "\n",
    "table_headers = [\"Problem Instance\", \"Final Fitness\", \"Fitness Calls\"]\n",
    "table = tabulate(table_data, headers=table_headers, tablefmt=\"pretty\")\n",
    "\n",
    "print(table)"
   ]
  }
 ],
 "metadata": {
  "kernelspec": {
   "display_name": "ci-fLJ3OwGs-py3.12",
   "language": "python",
   "name": "python3"
  },
  "language_info": {
   "codemirror_mode": {
    "name": "ipython",
    "version": 3
   },
   "file_extension": ".py",
   "mimetype": "text/x-python",
   "name": "python",
   "nbconvert_exporter": "python",
   "pygments_lexer": "ipython3",
   "version": "3.12.0"
  }
 },
 "nbformat": 4,
 "nbformat_minor": 2
}
