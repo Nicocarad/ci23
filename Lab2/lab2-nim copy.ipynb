{
 "cells": [
  {
   "cell_type": "markdown",
   "metadata": {
    "pycharm": {
     "name": "#%% md\n"
    }
   },
   "source": [
    "Copyright **`(c)`** 2022 Giovanni Squillero `<squillero@polito.it>`  \n",
    "[`https://github.com/squillero/computational-intelligence`](https://github.com/squillero/computational-intelligence)  \n",
    "Free for personal or classroom use; see [`LICENSE.md`](https://github.com/squillero/computational-intelligence/blob/master/LICENSE.md) for details.  \n"
   ]
  },
  {
   "cell_type": "markdown",
   "metadata": {
    "pycharm": {
     "name": "#%%\n"
    }
   },
   "source": [
    "# Lab 2: ES\n",
    "\n",
    "## Task\n",
    "\n",
    "Write agents able to play [*Nim*](https://en.wikipedia.org/wiki/Nim), with an arbitrary number of rows and an upper bound $k$ on the number of objects that can be removed in a turn (a.k.a., *subtraction game*).\n",
    "\n",
    "The goal of the game is to **avoid** taking the last object.\n",
    "\n",
    "* Task2.1: An agent using fixed rules based on *nim-sum* (i.e., an *expert system*)\n",
    "* Task2.2: An agent using evolved rules using ES\n",
    "\n",
    "## Instructions\n",
    "\n",
    "* Create the directory `lab2` inside the course repo \n",
    "* Put a `README.md` and your solution (all the files, code and auxiliary data if needed)\n",
    "\n",
    "## Notes\n",
    "\n",
    "* Working in group is not only allowed, but recommended (see: [Ubuntu](https://en.wikipedia.org/wiki/Ubuntu_philosophy) and [Cooperative Learning](https://files.eric.ed.gov/fulltext/EJ1096789.pdf)). Collaborations must be explicitly declared in the `README.md`.\n",
    "* [Yanking](https://www.emacswiki.org/emacs/KillingAndYanking) from the internet is allowed, but sources must be explicitly declared in the `README.md`.\n",
    "\n"
   ]
  },
  {
   "cell_type": "code",
   "execution_count": 335,
   "metadata": {},
   "outputs": [],
   "source": [
    "import logging\n",
    "from pprint import pprint, pformat\n",
    "from typing import Callable\n",
    "from collections import namedtuple\n",
    "import random\n",
    "from copy import deepcopy\n",
    "from random import gauss\n",
    "import matplotlib.pyplot as plt\n",
    "import random"
   ]
  },
  {
   "cell_type": "markdown",
   "metadata": {},
   "source": [
    "## The *Nim* and *Nimply* classes"
   ]
  },
  {
   "cell_type": "code",
   "execution_count": 336,
   "metadata": {},
   "outputs": [],
   "source": [
    "NUM_ROWS = 5\n",
    "K = None\n",
    "NUM_MATCHES = 300\n",
    "λ = 20\n",
    "σ = 0.1\n",
    "GENERATION_SIZE = 200 // λ\n",
    "random.seed(42)\n"
   ]
  },
  {
   "cell_type": "code",
   "execution_count": 337,
   "metadata": {},
   "outputs": [],
   "source": [
    "Nimply = namedtuple(\"Nimply\", \"row, num_objects\")\n",
    "\n",
    "\n",
    "# Definisci la classe namedtuple con i nomi degli elementi\n",
    "Solution = namedtuple('Solution', ['w1', 'w2', 'w3'])\n",
    "\n",
    "\n"
   ]
  },
  {
   "cell_type": "code",
   "execution_count": 338,
   "metadata": {},
   "outputs": [],
   "source": [
    "class Nim:\n",
    "    def __init__(self, num_rows: int, k: int = None) -> None:\n",
    "        # Initialize the Nim object with given number of rows and an optional maximum object limit\n",
    "        self._rows = [i * 2 + 1 for i in range(num_rows)]   # Create a list of odd numbers as row sizes\n",
    "        self._k = k   # Store the maximum object limit\n",
    "\n",
    "    def __bool__(self):\n",
    "        # Return True if there are objects remaining in the game, False otherwise\n",
    "        return sum(self._rows) > 0\n",
    "\n",
    "    def __str__(self):\n",
    "        # Return a string representation of the object\n",
    "        return \"<\" + \" \".join(str(_) for _ in self._rows) + \">\"\n",
    "\n",
    "    @property\n",
    "    def rows(self) -> tuple:\n",
    "        # Return the rows as a tuple\n",
    "        return tuple(self._rows)\n",
    "\n",
    "    def nimming(self, ply: Nimply) -> None:\n",
    "        # Perform a nimming move by removing objects from a specified row\n",
    "        row, num_objects = ply   # Unpack the tuple\n",
    "        assert self._rows[row] >= num_objects   # Check if the specified row has enough objects\n",
    "        assert self._k is None or num_objects <= self._k   # Check if the number of objects is within the maximum limit\n",
    "        self._rows[row] -= num_objects   # Subtract the number of objects from the specified row\n",
    "\n"
   ]
  },
  {
   "cell_type": "markdown",
   "metadata": {},
   "source": [
    "## Sample (and silly) startegies "
   ]
  },
  {
   "cell_type": "code",
   "execution_count": 339,
   "metadata": {},
   "outputs": [],
   "source": [
    "\n",
    "def pure_random(state: Nim) -> Nimply:\n",
    "    \"\"\"A completely random move\"\"\"\n",
    "    # Select a row that has at least one object remaining\n",
    "    row = random.choice([r for r, c in enumerate(state.rows) if c > 0])\n",
    "    # Randomly choose a number of objects to remove from the selected row\n",
    "    num_objects = random.randint(1, state.rows[row])\n",
    "    # Create and return a Nimply object representing the chosen move\n",
    "    return Nimply(row, num_objects)\n",
    "\n"
   ]
  },
  {
   "cell_type": "code",
   "execution_count": 340,
   "metadata": {},
   "outputs": [],
   "source": [
    "def gabriele(state: Nim) -> Nimply:\n",
    "    \"\"\"Pick always the maximum possible number of the lowest row\"\"\"\n",
    "    # Generate a list of possible moves\n",
    "    possible_moves = [(r, o) for r, c in enumerate(state.rows) for o in range(1, c + 1)]\n",
    "    # Select the move with the maximum number of objects from the lowest row\n",
    "    return Nimply(*max(possible_moves, key=lambda m: (-m[0], m[1])))\n",
    "\n"
   ]
  },
  {
   "cell_type": "code",
   "execution_count": 341,
   "metadata": {},
   "outputs": [],
   "source": [
    "import numpy as np\n",
    "\n",
    "\n",
    "def nim_sum(state: Nim) -> int:\n",
    "    tmp = np.array([tuple(int(x) for x in f\"{c:032b}\") for c in state.rows])\n",
    "    xor = tmp.sum(axis=0) % 2\n",
    "    return int(\"\".join(str(_) for _ in xor), base=2)\n",
    "\n",
    "\n",
    "def analize(raw: Nim) -> dict:\n",
    "    cooked = dict()\n",
    "    cooked[\"possible_moves\"] = dict()\n",
    "    for ply in (Nimply(r, o) for r, c in enumerate(raw.rows) for o in range(1, c + 1)):\n",
    "        tmp = deepcopy(raw)\n",
    "        tmp.nimming(ply)\n",
    "        cooked[\"possible_moves\"][ply] = nim_sum(tmp)\n",
    "    return cooked\n",
    "\n",
    "\n",
    "def optimal(state: Nim) -> Nimply:\n",
    "    analysis = analize(state)\n",
    "    logging.debug(f\"analysis:\\n{pformat(analysis)}\")\n",
    "    spicy_moves = [ply for ply, ns in analysis[\"possible_moves\"].items() if ns != 0]\n",
    "    if not spicy_moves:\n",
    "        spicy_moves = list(analysis[\"possible_moves\"].keys())\n",
    "    ply = random.choice(spicy_moves)\n",
    "    return ply\n"
   ]
  },
  {
   "cell_type": "markdown",
   "metadata": {},
   "source": [
    "## Oversimplified match"
   ]
  },
  {
   "cell_type": "code",
   "execution_count": 342,
   "metadata": {},
   "outputs": [
    {
     "name": "stderr",
     "output_type": "stream",
     "text": [
      "INFO:root:init : <1 3 5 7 9>\n",
      "INFO:root:ply: player 0 plays Nimply(row=4, num_objects=5)\n",
      "INFO:root:status: <1 3 5 7 4>\n",
      "INFO:root:ply: player 1 plays Nimply(row=0, num_objects=1)\n",
      "INFO:root:status: <0 3 5 7 4>\n",
      "INFO:root:ply: player 0 plays Nimply(row=3, num_objects=2)\n",
      "INFO:root:status: <0 3 5 5 4>\n",
      "INFO:root:ply: player 1 plays Nimply(row=2, num_objects=2)\n",
      "INFO:root:status: <0 3 3 5 4>\n",
      "INFO:root:ply: player 0 plays Nimply(row=2, num_objects=2)\n",
      "INFO:root:status: <0 3 1 5 4>\n",
      "INFO:root:ply: player 1 plays Nimply(row=1, num_objects=3)\n",
      "INFO:root:status: <0 0 1 5 4>\n",
      "INFO:root:ply: player 0 plays Nimply(row=4, num_objects=3)\n",
      "INFO:root:status: <0 0 1 5 1>\n",
      "INFO:root:ply: player 1 plays Nimply(row=2, num_objects=1)\n",
      "INFO:root:status: <0 0 0 5 1>\n",
      "INFO:root:ply: player 0 plays Nimply(row=3, num_objects=1)\n",
      "INFO:root:status: <0 0 0 4 1>\n",
      "INFO:root:ply: player 1 plays Nimply(row=3, num_objects=1)\n",
      "INFO:root:status: <0 0 0 3 1>\n",
      "INFO:root:ply: player 0 plays Nimply(row=3, num_objects=1)\n",
      "INFO:root:status: <0 0 0 2 1>\n",
      "INFO:root:ply: player 1 plays Nimply(row=3, num_objects=1)\n",
      "INFO:root:status: <0 0 0 1 1>\n",
      "INFO:root:ply: player 0 plays Nimply(row=3, num_objects=1)\n",
      "INFO:root:status: <0 0 0 0 1>\n",
      "INFO:root:ply: player 1 plays Nimply(row=4, num_objects=1)\n",
      "INFO:root:status: <0 0 0 0 0>\n",
      "INFO:root:status: Player 0 won!\n"
     ]
    }
   ],
   "source": [
    "logging.getLogger().setLevel(logging.INFO)\n",
    "\n",
    "strategy = (optimal, pure_random)\n",
    "\n",
    "nim = Nim(5) # define the game with 5 rows\n",
    "logging.info(f\"init : {nim}\")\n",
    "player = 0\n",
    "while nim: # while the game is not over --> sum of all rows is not zero\n",
    "    ply = strategy[player](nim) # get the move from the player 0\n",
    "    logging.info(f\"ply: player {player} plays {ply}\")\n",
    "    nim.nimming(ply) # perform the move\n",
    "    logging.info(f\"status: {nim}\")\n",
    "    player = 1 - player\n",
    "logging.info(f\"status: Player {player} won!\")\n"
   ]
  },
  {
   "cell_type": "markdown",
   "metadata": {},
   "source": [
    "## (1+λ)-ES"
   ]
  },
  {
   "cell_type": "code",
   "execution_count": 343,
   "metadata": {},
   "outputs": [],
   "source": [
    "def state_info(state: Nim) -> dict:\n",
    "    info = dict()\n",
    "    info[\"possible_moves\"] = [\n",
    "        (r, o) for r, c in enumerate(state.rows) for o in range(1, c + 1) \n",
    "    ]\n",
    "    # info[\"active_rows_number\"] = sum(o > 0 for o in state.rows)\n",
    "    info[\"shortest_row\"] = min((x for x in enumerate(state.rows) if x[1] > 0), key=lambda y: y[1])[0]\n",
    "    info[\"longest_row\"] = max((x for x in enumerate(state.rows)), key=lambda y: y[1])[0]\n",
    "    info[\"random_row\"] = random.choice([r for r, c in enumerate(state.rows) if c > 0])\n",
    "    # info[\"nim_sum\"] = nim_sum(state)\n",
    "\n",
    "    \n",
    "\n",
    "    return info"
   ]
  },
  {
   "cell_type": "code",
   "execution_count": 344,
   "metadata": {},
   "outputs": [],
   "source": [
    "def evolved_strategy(genome) -> Callable:\n",
    "    def adaptive(state: Nim) -> Nimply:\n",
    "        data = state_info(state)\n",
    "\n",
    "        selected_strategy = random.choices(range(len(genome)), weights=genome)[0]\n",
    "\n",
    "        if selected_strategy == 0:\n",
    "            ply = Nimply(\n",
    "                data[\"shortest_row\"],\n",
    "                random.randint(1, state.rows[data[\"shortest_row\"]]),\n",
    "            )\n",
    "        elif selected_strategy == 1:\n",
    "            ply = Nimply(\n",
    "                data[\"longest_row\"], random.randint(1, state.rows[data[\"longest_row\"]])\n",
    "            )\n",
    "        elif selected_strategy == 2:\n",
    "            ply = Nimply(\n",
    "                data[\"random_row\"], random.randint(1, state.rows[data[\"random_row\"]])\n",
    "            )\n",
    "        else:\n",
    "            ply = optimal(state)\n",
    "        return ply\n",
    "\n",
    "    return adaptive"
   ]
  },
  {
   "cell_type": "code",
   "execution_count": 345,
   "metadata": {},
   "outputs": [],
   "source": [
    "# import random\n",
    "\n",
    "# def select_random_number(numbers):\n",
    "#     # Assicura che la somma dei numeri sia 1\n",
    "#     total_sum = sum(numbers)\n",
    "#     if abs(total_sum - 1) > 1e-10:\n",
    "#         raise ValueError(\"La somma dei numeri deve essere 1.\")\n",
    "\n",
    "#     # Seleziona un numero in modo casuale ponderando la probabilità\n",
    "#     selected_number = random.choices(range(len(numbers)), weights=numbers)[0]\n",
    "    \n",
    "#     return selected_number\n",
    "\n",
    "# # Esempio di utilizzo\n",
    "# numbers = [0.9, 0.05, 0.05]\n",
    "# selected_index = select_random_number(numbers)\n",
    "\n",
    "# # Stampa il risultato\n",
    "# print(f\"Selected number: {selected_index + 1}\")\n"
   ]
  },
  {
   "cell_type": "code",
   "execution_count": 346,
   "metadata": {},
   "outputs": [],
   "source": [
    "def fitness(strategy: Callable) -> int:\n",
    "    won = 0\n",
    "    opponent = (strategy, optimal)\n",
    "\n",
    "    for _ in range(NUM_MATCHES):\n",
    "        nim = Nim(NUM_ROWS)\n",
    "        player = 0\n",
    "\n",
    "        while nim:\n",
    "            ply = opponent[player](nim)\n",
    "            nim.nimming(ply)  # perform the move\n",
    "            player ^= 1\n",
    "\n",
    "        if player == 0:\n",
    "            won += 1\n",
    "\n",
    "    return won  # return the number of matches won"
   ]
  },
  {
   "cell_type": "code",
   "execution_count": 347,
   "metadata": {},
   "outputs": [],
   "source": [
    "import numpy as np\n",
    "\n",
    "\n",
    "def generate_offsprings(offspring) -> list:\n",
    "    output = []\n",
    "\n",
    "    for _ in range(λ):\n",
    "        new_offspring = [\n",
    "            np.clip(val + np.random.normal(0, σ), 0, 1) for val in offspring\n",
    "        ]\n",
    "\n",
    "        current_sum = sum(new_offspring)\n",
    "\n",
    "        if current_sum != 0:\n",
    "            scale_factor = 1 / current_sum\n",
    "            # Apply scale factor to each value\n",
    "            values = [val * scale_factor for val in new_offspring]\n",
    "        else:\n",
    "            values = new_offspring\n",
    "\n",
    "        output.append(values)\n",
    "\n",
    "    return output"
   ]
  },
  {
   "cell_type": "markdown",
   "metadata": {},
   "source": [
    "## Adaptive (1,λ)-ES"
   ]
  },
  {
   "cell_type": "code",
   "execution_count": 348,
   "metadata": {},
   "outputs": [],
   "source": [
    "\n",
    "# choosen_probability = list()\n",
    "# solutions_list = list()\n",
    "# stats = [0, 0]\n",
    "# counter = 0\n",
    "# for n in range(GENERATION_SIZE):\n",
    "#     print(\"Sigma for generation\", n + 1, \"is:\", σ)\n",
    "#     offsprings = generate_offsprings(current_solution)\n",
    "#     offsprings.append(current_solution)\n",
    "\n",
    "#     evals = [\n",
    "#         (offspring, fitness(evolved_strategy(offspring))) for offspring in offsprings\n",
    "#     ]\n",
    "#     previous_solution = evals[λ]\n",
    "#     for i in range(λ):\n",
    "#         if evals[i][1] > previous_solution[1]:\n",
    "#             counter += 1\n",
    "\n",
    "#     stats[1] += counter\n",
    "#     stats[0] += λ\n",
    "\n",
    "#     if (n + 1) % 1 == 0:\n",
    "#         if stats[0] / stats[1] < 1 / 5:\n",
    "#             σ /= 1.2\n",
    "#         elif stats[0] / stats[1] > 1 / 5:\n",
    "#             σ *= 1.2\n",
    "#         steps = [0, 0]\n",
    "\n",
    "#     evals.sort(key=lambda x: x[1], reverse=True)\n",
    "\n",
    "#     # pprint(evals)\n",
    "\n",
    "#     current_solution = evals[0][0]\n",
    "#     choosen_probability.append(current_solution)\n",
    "#     solutions_list.append(evals[0][1])\n",
    "\n",
    "#     print(f\"Best result for generation {n+1} is:\", evals[0])\n",
    "\n",
    "\n",
    "# plt.plot(range(len(choosen_probability)), choosen_probability)\n",
    "# plt.xlabel(\"Generation\")\n",
    "# plt.ylabel(\"Probability\")\n",
    "# plt.show()\n",
    "\n",
    "# plt.plot(range(GENERATION_SIZE), solutions_list)\n",
    "# plt.xlabel(\"Generation\")\n",
    "# plt.ylabel(\"Number of wins\")\n",
    "# plt.show()\n",
    "\n"
   ]
  },
  {
   "cell_type": "markdown",
   "metadata": {},
   "source": [
    "## (1,λ)-ES"
   ]
  },
  {
   "cell_type": "code",
   "execution_count": 349,
   "metadata": {},
   "outputs": [
    {
     "name": "stdout",
     "output_type": "stream",
     "text": [
      "Best result for generation 1 is: ([0.19897777068568007, 0.2678764306320365, 0.27844608191135656, 0.2546997167709269], 127)\n",
      "Best result for generation 2 is: ([0.1381573652914832, 0.37268944381807706, 0.1922400879714012, 0.2969131029190387], 123)\n",
      "Best result for generation 3 is: ([0.2316536052855178, 0.34874768821892377, 0.1049928765407147, 0.3146058299548437], 138)\n"
     ]
    }
   ],
   "source": [
    "\n",
    "# current_solution = Solution(w1=0.33, w2=0.33, w3=0.34)\n",
    "\n",
    "current_solution = (0.25,0.25,0.25,0.25)\n",
    "\n",
    "\n",
    "choosen_probability = list()\n",
    "solutions_list = list()\n",
    "# stats = [0, 0]\n",
    "for n in range(GENERATION_SIZE):\n",
    "    # offspring <- select λ random points mutating the current solution\n",
    "    # print(\"Starting probability for generation\", n+1, \"is:\", current_solution)\n",
    "    offsprings = generate_offsprings(current_solution)\n",
    "    offsprings.append(current_solution)\n",
    "    # evaluate and select best\n",
    "    \n",
    "    evals = [\n",
    "        (offspring, fitness(evolved_strategy(offspring))) for offspring in offsprings\n",
    "    ]\n",
    "\n",
    "\n",
    "    evals.sort(key=lambda x: x[1], reverse=True)\n",
    "    #pprint(evals)\n",
    "\n",
    "    current_solution = evals[0][0]\n",
    "    choosen_probability.append(current_solution)\n",
    "    solutions_list.append(evals[0][1])\n",
    "\n",
    "    print(f\"Best result for generation {n+1} is:\", evals[0])\n",
    "\n",
    "\n",
    "\n",
    "\n",
    "# curve_names = ['Strategy 1', 'Strategy 2', 'Strategy 3']\n",
    "\n",
    "# for i in range(len(choosen_probability)):\n",
    "#     plt.plot(range(len(choosen_probability[i])), choosen_probability[i], label=curve_names[i])\n",
    "\n",
    "# plt.xlabel(\"Generation\")\n",
    "# plt.ylabel(\"Probability\")\n",
    "# plt.legend()\n",
    "# plt.show()\n",
    "\n",
    "\n",
    "plt.plot(range(GENERATION_SIZE), solutions_list)\n",
    "plt.xlabel(\"Generation\")\n",
    "plt.ylabel(\"Number of wins\")\n",
    "plt.show()\n",
    "\n"
   ]
  },
  {
   "cell_type": "markdown",
   "metadata": {},
   "source": [
    "## (1,λ)-ES"
   ]
  },
  {
   "cell_type": "code",
   "execution_count": null,
   "metadata": {},
   "outputs": [
    {
     "ename": "TypeError",
     "evalue": "'float' object is not subscriptable",
     "output_type": "error",
     "traceback": [
      "\u001b[1;31m---------------------------------------------------------------------------\u001b[0m",
      "\u001b[1;31mTypeError\u001b[0m                                 Traceback (most recent call last)",
      "\u001b[1;32mc:\\Users\\Nicolò Caradonna\\Documents\\GitHub\\ci23\\Lab2\\lab2-nim copy.ipynb Cella 25\u001b[0m line \u001b[0;36m8\n\u001b[0;32m      <a href='vscode-notebook-cell:/c%3A/Users/Nicol%C3%B2%20Caradonna/Documents/GitHub/ci23/Lab2/lab2-nim%20copy.ipynb#X32sZmlsZQ%3D%3D?line=2'>3</a>\u001b[0m solutions_list \u001b[39m=\u001b[39m \u001b[39mlist\u001b[39m()\n\u001b[0;32m      <a href='vscode-notebook-cell:/c%3A/Users/Nicol%C3%B2%20Caradonna/Documents/GitHub/ci23/Lab2/lab2-nim%20copy.ipynb#X32sZmlsZQ%3D%3D?line=4'>5</a>\u001b[0m \u001b[39mfor\u001b[39;00m n \u001b[39min\u001b[39;00m \u001b[39mrange\u001b[39m(GENERATION_SIZE):\n\u001b[0;32m      <a href='vscode-notebook-cell:/c%3A/Users/Nicol%C3%B2%20Caradonna/Documents/GitHub/ci23/Lab2/lab2-nim%20copy.ipynb#X32sZmlsZQ%3D%3D?line=5'>6</a>\u001b[0m     \u001b[39m# offspring <- select λ random points mutating the current solution\u001b[39;00m\n\u001b[0;32m      <a href='vscode-notebook-cell:/c%3A/Users/Nicol%C3%B2%20Caradonna/Documents/GitHub/ci23/Lab2/lab2-nim%20copy.ipynb#X32sZmlsZQ%3D%3D?line=6'>7</a>\u001b[0m     \u001b[39m# print(\"Starting probability for generation\", n+1, \"is:\", current_solution)\u001b[39;00m\n\u001b[1;32m----> <a href='vscode-notebook-cell:/c%3A/Users/Nicol%C3%B2%20Caradonna/Documents/GitHub/ci23/Lab2/lab2-nim%20copy.ipynb#X32sZmlsZQ%3D%3D?line=7'>8</a>\u001b[0m     offsprings \u001b[39m=\u001b[39m generate_offsprings(current_solution)\n\u001b[0;32m     <a href='vscode-notebook-cell:/c%3A/Users/Nicol%C3%B2%20Caradonna/Documents/GitHub/ci23/Lab2/lab2-nim%20copy.ipynb#X32sZmlsZQ%3D%3D?line=9'>10</a>\u001b[0m     \u001b[39m# evaluate and select best\u001b[39;00m\n\u001b[0;32m     <a href='vscode-notebook-cell:/c%3A/Users/Nicol%C3%B2%20Caradonna/Documents/GitHub/ci23/Lab2/lab2-nim%20copy.ipynb#X32sZmlsZQ%3D%3D?line=10'>11</a>\u001b[0m     evals \u001b[39m=\u001b[39m [\n\u001b[0;32m     <a href='vscode-notebook-cell:/c%3A/Users/Nicol%C3%B2%20Caradonna/Documents/GitHub/ci23/Lab2/lab2-nim%20copy.ipynb#X32sZmlsZQ%3D%3D?line=11'>12</a>\u001b[0m         (offspring, fitness(evolved_strategy(offspring))) \u001b[39mfor\u001b[39;00m offspring \u001b[39min\u001b[39;00m offsprings\n\u001b[0;32m     <a href='vscode-notebook-cell:/c%3A/Users/Nicol%C3%B2%20Caradonna/Documents/GitHub/ci23/Lab2/lab2-nim%20copy.ipynb#X32sZmlsZQ%3D%3D?line=12'>13</a>\u001b[0m     ]\n",
      "\u001b[1;32mc:\\Users\\Nicolò Caradonna\\Documents\\GitHub\\ci23\\Lab2\\lab2-nim copy.ipynb Cella 25\u001b[0m line \u001b[0;36m5\n\u001b[0;32m      <a href='vscode-notebook-cell:/c%3A/Users/Nicol%C3%B2%20Caradonna/Documents/GitHub/ci23/Lab2/lab2-nim%20copy.ipynb#X32sZmlsZQ%3D%3D?line=1'>2</a>\u001b[0m output \u001b[39m=\u001b[39m []\n\u001b[0;32m      <a href='vscode-notebook-cell:/c%3A/Users/Nicol%C3%B2%20Caradonna/Documents/GitHub/ci23/Lab2/lab2-nim%20copy.ipynb#X32sZmlsZQ%3D%3D?line=3'>4</a>\u001b[0m \u001b[39mfor\u001b[39;00m _ \u001b[39min\u001b[39;00m \u001b[39mrange\u001b[39m(λ):\n\u001b[1;32m----> <a href='vscode-notebook-cell:/c%3A/Users/Nicol%C3%B2%20Caradonna/Documents/GitHub/ci23/Lab2/lab2-nim%20copy.ipynb#X32sZmlsZQ%3D%3D?line=4'>5</a>\u001b[0m     new_offspring \u001b[39m=\u001b[39m (np\u001b[39m.\u001b[39mclip(offspring[\u001b[39m0\u001b[39;49m] \u001b[39m+\u001b[39m np\u001b[39m.\u001b[39mrandom\u001b[39m.\u001b[39mnormal(\u001b[39m0\u001b[39m, σ), \u001b[39m0\u001b[39m, \u001b[39m1\u001b[39m),\n\u001b[0;32m      <a href='vscode-notebook-cell:/c%3A/Users/Nicol%C3%B2%20Caradonna/Documents/GitHub/ci23/Lab2/lab2-nim%20copy.ipynb#X32sZmlsZQ%3D%3D?line=5'>6</a>\u001b[0m                      np\u001b[39m.\u001b[39mclip(offspring[\u001b[39m1\u001b[39m] \u001b[39m+\u001b[39m np\u001b[39m.\u001b[39mrandom\u001b[39m.\u001b[39mnormal(\u001b[39m0\u001b[39m, σ), \u001b[39m0\u001b[39m, \u001b[39m1\u001b[39m),\n\u001b[0;32m      <a href='vscode-notebook-cell:/c%3A/Users/Nicol%C3%B2%20Caradonna/Documents/GitHub/ci23/Lab2/lab2-nim%20copy.ipynb#X32sZmlsZQ%3D%3D?line=6'>7</a>\u001b[0m                      np\u001b[39m.\u001b[39mclip(offspring[\u001b[39m2\u001b[39m] \u001b[39m+\u001b[39m np\u001b[39m.\u001b[39mrandom\u001b[39m.\u001b[39mnormal(\u001b[39m0\u001b[39m, σ), \u001b[39m0\u001b[39m, \u001b[39m1\u001b[39m))\n\u001b[0;32m      <a href='vscode-notebook-cell:/c%3A/Users/Nicol%C3%B2%20Caradonna/Documents/GitHub/ci23/Lab2/lab2-nim%20copy.ipynb#X32sZmlsZQ%3D%3D?line=8'>9</a>\u001b[0m     values \u001b[39m=\u001b[39m [\u001b[39mmax\u001b[39m(\u001b[39m0\u001b[39m, val) \u001b[39mfor\u001b[39;00m val \u001b[39min\u001b[39;00m new_offspring]\n\u001b[0;32m     <a href='vscode-notebook-cell:/c%3A/Users/Nicol%C3%B2%20Caradonna/Documents/GitHub/ci23/Lab2/lab2-nim%20copy.ipynb#X32sZmlsZQ%3D%3D?line=9'>10</a>\u001b[0m     current_sum \u001b[39m=\u001b[39m values[\u001b[39m0\u001b[39m] \u001b[39m+\u001b[39m values[\u001b[39m1\u001b[39m] \u001b[39m+\u001b[39m values[\u001b[39m2\u001b[39m]\n",
      "\u001b[1;31mTypeError\u001b[0m: 'float' object is not subscriptable"
     ]
    }
   ],
   "source": [
    "current_solution = 0.5\n",
    "choosen_probability = list()\n",
    "solutions_list = list()\n",
    "\n",
    "for n in range(GENERATION_SIZE):\n",
    "    # offspring <- select λ random points mutating the current solution\n",
    "    # print(\"Starting probability for generation\", n+1, \"is:\", current_solution)\n",
    "    offsprings = generate_offsprings(current_solution)\n",
    "\n",
    "    # evaluate and select best\n",
    "    evals = [\n",
    "        (offspring, fitness(evolved_strategy(offspring))) for offspring in offsprings\n",
    "    ]\n",
    "\n",
    "\n",
    "    evals.sort(key=lambda x: x[1], reverse=True)\n",
    "    pprint(evals)\n",
    "\n",
    "    current_solution = evals[0][0]\n",
    "    choosen_probability.append(current_solution)\n",
    "    solutions_list.append(evals[0][1])\n",
    "\n",
    "    print(f\"Best result for generation {n+1} is:\", evals[0])\n",
    "\n",
    "\n",
    "plt.plot(range(len(choosen_probability)), choosen_probability)\n",
    "plt.xlabel(\"Generation\")\n",
    "plt.ylabel(\"Probability\")\n",
    "plt.show()\n",
    "\n",
    "plt.plot(range(GENERATION_SIZE), solutions_list)\n",
    "plt.xlabel(\"Generation\")\n",
    "plt.ylabel(\"Number of wins\")\n",
    "plt.show()\n",
    "\n",
    "\n"
   ]
  }
 ],
 "metadata": {
  "kernelspec": {
   "display_name": "Python 3.10.7 ('ci22-dPIXJ0_o-py3.10')",
   "language": "python",
   "name": "python3"
  },
  "language_info": {
   "codemirror_mode": {
    "name": "ipython",
    "version": 3
   },
   "file_extension": ".py",
   "mimetype": "text/x-python",
   "name": "python",
   "nbconvert_exporter": "python",
   "pygments_lexer": "ipython3",
   "version": "3.12.0"
  },
  "vscode": {
   "interpreter": {
    "hash": "10197e8e2f2aa67e2c349105091c77f4cd384fce4877865f002d9ec653f96bc0"
   }
  }
 },
 "nbformat": 4,
 "nbformat_minor": 2
}
