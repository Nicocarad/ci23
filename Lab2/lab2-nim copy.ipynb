{
 "cells": [
  {
   "cell_type": "markdown",
   "metadata": {
    "pycharm": {
     "name": "#%% md\n"
    }
   },
   "source": [
    "Copyright **`(c)`** 2022 Giovanni Squillero `<squillero@polito.it>`  \n",
    "[`https://github.com/squillero/computational-intelligence`](https://github.com/squillero/computational-intelligence)  \n",
    "Free for personal or classroom use; see [`LICENSE.md`](https://github.com/squillero/computational-intelligence/blob/master/LICENSE.md) for details.  \n"
   ]
  },
  {
   "cell_type": "markdown",
   "metadata": {
    "pycharm": {
     "name": "#%%\n"
    }
   },
   "source": [
    "# Lab 2: ES\n",
    "\n",
    "## Task\n",
    "\n",
    "Write agents able to play [*Nim*](https://en.wikipedia.org/wiki/Nim), with an arbitrary number of rows and an upper bound $k$ on the number of objects that can be removed in a turn (a.k.a., *subtraction game*).\n",
    "\n",
    "The goal of the game is to **avoid** taking the last object.\n",
    "\n",
    "* Task2.1: An agent using fixed rules based on *nim-sum* (i.e., an *expert system*)\n",
    "* Task2.2: An agent using evolved rules using ES\n",
    "\n",
    "## Instructions\n",
    "\n",
    "* Create the directory `lab2` inside the course repo \n",
    "* Put a `README.md` and your solution (all the files, code and auxiliary data if needed)\n",
    "\n",
    "## Notes\n",
    "\n",
    "* Working in group is not only allowed, but recommended (see: [Ubuntu](https://en.wikipedia.org/wiki/Ubuntu_philosophy) and [Cooperative Learning](https://files.eric.ed.gov/fulltext/EJ1096789.pdf)). Collaborations must be explicitly declared in the `README.md`.\n",
    "* [Yanking](https://www.emacswiki.org/emacs/KillingAndYanking) from the internet is allowed, but sources must be explicitly declared in the `README.md`.\n",
    "\n"
   ]
  },
  {
   "cell_type": "code",
   "execution_count": 110,
   "metadata": {},
   "outputs": [],
   "source": [
    "import logging\n",
    "from pprint import pprint, pformat\n",
    "from typing import Callable\n",
    "from collections import namedtuple\n",
    "import random\n",
    "from copy import deepcopy\n",
    "from random import gauss\n",
    "import matplotlib.pyplot as plt\n",
    "import random\n",
    "import numpy as np"
   ]
  },
  {
   "cell_type": "markdown",
   "metadata": {},
   "source": [
    "## The *Nim* and *Nimply* classes"
   ]
  },
  {
   "cell_type": "code",
   "execution_count": 111,
   "metadata": {},
   "outputs": [],
   "source": [
    "NUM_ROWS = 5\n",
    "K = None\n",
    "NUM_MATCHES = 300\n",
    "λ = 20\n",
    "σ = 0.1\n",
    "GENERATION_SIZE = 300 // λ\n",
    "random.seed(42)\n"
   ]
  },
  {
   "cell_type": "code",
   "execution_count": 112,
   "metadata": {},
   "outputs": [],
   "source": [
    "Nimply = namedtuple(\"Nimply\", \"row, num_objects\")"
   ]
  },
  {
   "cell_type": "code",
   "execution_count": 113,
   "metadata": {},
   "outputs": [],
   "source": [
    "class Nim:\n",
    "    def __init__(self, num_rows: int, k: int = None) -> None:\n",
    "        # Initialize the Nim object with given number of rows and an optional maximum object limit\n",
    "        self._rows = [\n",
    "            i * 2 + 1 for i in range(num_rows)\n",
    "        ]  # Create a list of odd numbers as row sizes\n",
    "        self._k = k  # Store the maximum object limit\n",
    "\n",
    "    def __bool__(self):\n",
    "        # Return True if there are objects remaining in the game, False otherwise\n",
    "        return sum(self._rows) > 0\n",
    "\n",
    "    def __str__(self):\n",
    "        # Return a string representation of the object\n",
    "        return \"<\" + \" \".join(str(_) for _ in self._rows) + \">\"\n",
    "\n",
    "    @property\n",
    "    def rows(self) -> tuple:\n",
    "        # Return the rows as a tuple\n",
    "        return tuple(self._rows)\n",
    "\n",
    "    def nimming(self, ply: Nimply) -> None:\n",
    "        # Perform a nimming move by removing objects from a specified row\n",
    "        row, num_objects = ply  # Unpack the tuple\n",
    "        assert (\n",
    "            self._rows[row] >= num_objects\n",
    "        )  # Check if the specified row has enough objects\n",
    "        assert (\n",
    "            self._k is None or num_objects <= self._k\n",
    "        )  # Check if the number of objects is within the maximum limit\n",
    "        self._rows[\n",
    "            row\n",
    "        ] -= num_objects  # Subtract the number of objects from the specified row"
   ]
  },
  {
   "cell_type": "markdown",
   "metadata": {},
   "source": [
    "## Sample (and silly) startegies "
   ]
  },
  {
   "cell_type": "code",
   "execution_count": 114,
   "metadata": {},
   "outputs": [],
   "source": [
    "\n",
    "def pure_random(state: Nim) -> Nimply:\n",
    "    \"\"\"A completely random move\"\"\"\n",
    "    # Select a row that has at least one object remaining\n",
    "    row = random.choice([r for r, c in enumerate(state.rows) if c > 0])\n",
    "    # Randomly choose a number of objects to remove from the selected row\n",
    "    num_objects = random.randint(1, state.rows[row])\n",
    "    # Create and return a Nimply object representing the chosen move\n",
    "    return Nimply(row, num_objects)\n",
    "\n"
   ]
  },
  {
   "cell_type": "code",
   "execution_count": 115,
   "metadata": {},
   "outputs": [],
   "source": [
    "def gabriele(state: Nim) -> Nimply:\n",
    "    \"\"\"Pick always the maximum possible number of the lowest row\"\"\"\n",
    "    # Generate a list of possible moves\n",
    "    possible_moves = [(r, o) for r, c in enumerate(state.rows) for o in range(1, c + 1)]\n",
    "    # Select the move with the maximum number of objects from the lowest row\n",
    "    return Nimply(*max(possible_moves, key=lambda m: (-m[0], m[1])))\n",
    "\n"
   ]
  },
  {
   "cell_type": "code",
   "execution_count": 116,
   "metadata": {},
   "outputs": [],
   "source": [
    "\n",
    "\n",
    "\n",
    "def nim_sum(state: Nim) -> int:\n",
    "    tmp = np.array([tuple(int(x) for x in f\"{c:032b}\") for c in state.rows])\n",
    "    xor = tmp.sum(axis=0) % 2\n",
    "    return int(\"\".join(str(_) for _ in xor), base=2)\n",
    "\n",
    "\n",
    "def analize(raw: Nim) -> dict:\n",
    "    cooked = dict()\n",
    "    cooked[\"possible_moves\"] = dict()\n",
    "    for ply in (Nimply(r, o) for r, c in enumerate(raw.rows) for o in range(1, c + 1)):\n",
    "        tmp = deepcopy(raw)\n",
    "        tmp.nimming(ply)\n",
    "        cooked[\"possible_moves\"][ply] = nim_sum(tmp)\n",
    "    return cooked\n",
    "\n",
    "\n",
    "def optimal(state: Nim) -> Nimply:\n",
    "    analysis = analize(state)\n",
    "    logging.debug(f\"analysis:\\n{pformat(analysis)}\")\n",
    "    spicy_moves = [ply for ply, ns in analysis[\"possible_moves\"].items() if ns != 0]\n",
    "    if not spicy_moves:\n",
    "        spicy_moves = list(analysis[\"possible_moves\"].keys())\n",
    "    ply = random.choice(spicy_moves)\n",
    "    return ply\n"
   ]
  },
  {
   "cell_type": "markdown",
   "metadata": {},
   "source": [
    "## (1+λ)-ES"
   ]
  },
  {
   "cell_type": "code",
   "execution_count": 118,
   "metadata": {},
   "outputs": [],
   "source": [
    "def state_info(state: Nim) -> dict:\n",
    "    info = dict()\n",
    "    info[\"possible_moves\"] = [\n",
    "        (r, o) for r, c in enumerate(state.rows) for o in range(1, c + 1)\n",
    "    ]\n",
    "    info[\"shortest_row\"] = min(\n",
    "        (x for x in enumerate(state.rows) if x[1] > 0), key=lambda y: y[1]\n",
    "    )[0]\n",
    "    info[\"longest_row\"] = max((x for x in enumerate(state.rows)), key=lambda y: y[1])[0]\n",
    "    info[\"random_row\"] = random.choice([r for r, c in enumerate(state.rows) if c > 0])\n",
    "  \n",
    "\n",
    "    return info"
   ]
  },
  {
   "cell_type": "code",
   "execution_count": 119,
   "metadata": {},
   "outputs": [],
   "source": [
    "def evolved_strategy(genome) -> Callable:\n",
    "    strategy_dict = {0: \"shortest\", 1: \"longest\", 2: \"random\", 3: \"optimal\"}\n",
    "\n",
    "    def adaptive(state: Nim) -> Nimply:\n",
    "        data = state_info(state)\n",
    "\n",
    "        # select a strategy in a random way wheighed by the genome\n",
    "        selected_strategy = random.choices(range(len(genome)), weights=genome)[0]\n",
    "        selected_strategy = strategy_dict[selected_strategy]\n",
    "\n",
    "        if selected_strategy == \"shortest\":\n",
    "            ply = Nimply(\n",
    "                data[\"shortest_row\"],\n",
    "                random.randint(1, state.rows[data[\"shortest_row\"]]),\n",
    "            )\n",
    "        elif selected_strategy == \"longest\":\n",
    "            ply = Nimply(\n",
    "                data[\"longest_row\"], random.randint(1, state.rows[data[\"longest_row\"]])\n",
    "            )\n",
    "        elif selected_strategy == \"random\":\n",
    "            ply = Nimply(\n",
    "                data[\"random_row\"], random.randint(1, state.rows[data[\"random_row\"]])\n",
    "            )\n",
    "        else:\n",
    "            ply = optimal(state)\n",
    "        return ply\n",
    "\n",
    "    return adaptive"
   ]
  },
  {
   "cell_type": "code",
   "execution_count": 121,
   "metadata": {},
   "outputs": [],
   "source": [
    "def fitness(strategy: Callable) -> int:\n",
    "    won = 0\n",
    "    opponent = (strategy, optimal)\n",
    "\n",
    "    for _ in range(NUM_MATCHES):\n",
    "        nim = Nim(NUM_ROWS)\n",
    "        player = 0\n",
    "\n",
    "        while nim:\n",
    "            ply = opponent[player](nim)\n",
    "            nim.nimming(ply)  # perform the move\n",
    "            player ^= 1\n",
    "\n",
    "        if player == 0:\n",
    "            won += 1\n",
    "\n",
    "    return won  # return the number of matches won"
   ]
  },
  {
   "cell_type": "code",
   "execution_count": 122,
   "metadata": {},
   "outputs": [],
   "source": [
    "def generate_offsprings(offspring) -> list:\n",
    "    output = []\n",
    "\n",
    "    for _ in range(λ):\n",
    "        new_offspring = [\n",
    "            np.clip(val + np.random.normal(0, σ), 0, 1) for val in offspring\n",
    "        ]\n",
    "\n",
    "        current_sum = sum(new_offspring)\n",
    "\n",
    "        if current_sum != 0:\n",
    "            scale_factor = 1 / current_sum\n",
    "            # Apply scale factor to each value\n",
    "            values = [val * scale_factor for val in new_offspring]\n",
    "        else:\n",
    "            values = new_offspring\n",
    "\n",
    "        output.append(values)\n",
    "\n",
    "    return output"
   ]
  },
  {
   "cell_type": "markdown",
   "metadata": {},
   "source": [
    "## (1,λ)-ES"
   ]
  },
  {
   "cell_type": "code",
   "execution_count": null,
   "metadata": {},
   "outputs": [],
   "source": [
    "current_solution = (0.25, 0.25, 0.25, 0.25)\n",
    "\n",
    "\n",
    "choosen_probability = list()\n",
    "solutions_list = list()\n",
    "for n in range(GENERATION_SIZE):\n",
    "    # offspring <- select λ random points mutating the current solution\n",
    "    # print(\"Starting probability for generation\", n+1, \"is:\", current_solution)\n",
    "    offsprings = generate_offsprings(current_solution)\n",
    "    offsprings.append(current_solution)\n",
    "    # evaluate and select best\n",
    "\n",
    "    evals = [\n",
    "        (offspring, fitness(evolved_strategy(offspring))) for offspring in offsprings\n",
    "    ]\n",
    "\n",
    "    evals.sort(key=lambda x: x[1], reverse=True)\n",
    "    # pprint(evals)\n",
    "\n",
    "    current_solution = evals[0][0]\n",
    "    choosen_probability.append(current_solution)\n",
    "    solutions_list.append(evals[0][1])\n",
    "\n",
    "    print(f\"Best result for generation {n+1} is:\", evals[0])\n",
    "\n",
    "\n",
    "val = np.array([[0.25], [0.25], [0.25], [0.25]])\n",
    "curve_names = [\"Shortest\", \"Longest\", \"Random\", \"Optimal\"]\n",
    "choosen_probability = np.array(choosen_probability)\n",
    "\n",
    "for i in range(GENERATION_SIZE):\n",
    "    val = np.hstack((val, choosen_probability[i].reshape(-1, 1)))\n",
    "\n",
    "for i in range(4):\n",
    "    plt.plot(range(GENERATION_SIZE + 1), val[i], label=curve_names[i])\n",
    "\n",
    "plt.xlabel(\"Generation\")\n",
    "plt.ylabel(\"Probability\")\n",
    "plt.legend()\n",
    "plt.show()\n",
    "\n",
    "\n",
    "plt.plot(range(GENERATION_SIZE), solutions_list)\n",
    "plt.xlabel(\"Generation\")\n",
    "plt.ylabel(\"Number of wins\")\n",
    "plt.show()"
   ]
  },
  {
   "cell_type": "markdown",
   "metadata": {},
   "source": [
    "## Adaptive (1,λ)-ES"
   ]
  },
  {
   "cell_type": "code",
   "execution_count": 123,
   "metadata": {},
   "outputs": [],
   "source": [
    "current_solution = (0.25, 0.25, 0.25, 0.25)\n",
    "choosen_probability = list()\n",
    "solutions_list = list()\n",
    "stats = [0, 0]\n",
    "counter = 0\n",
    "for n in range(GENERATION_SIZE):\n",
    "    print(\"Sigma for generation\", n + 1, \"is:\", σ)\n",
    "    offsprings = generate_offsprings(current_solution)\n",
    "    offsprings.append(current_solution)\n",
    "\n",
    "    evals = [\n",
    "        (offspring, fitness(evolved_strategy(offspring))) for offspring in offsprings\n",
    "    ]\n",
    "    previous_solution = evals[λ]\n",
    "    for i in range(λ):\n",
    "        if evals[i][1] > previous_solution[1]:\n",
    "            counter += 1\n",
    "\n",
    "    stats[1] += counter\n",
    "    stats[0] += λ\n",
    "\n",
    "    if (n + 1) % 1 == 0:\n",
    "        if stats[0] / stats[1] < 1 / 5:\n",
    "            σ /= 1.2\n",
    "        elif stats[0] / stats[1] > 1 / 5:\n",
    "            σ *= 1.2\n",
    "        steps = [0, 0]\n",
    "\n",
    "    evals.sort(key=lambda x: x[1], reverse=True)\n",
    "\n",
    "    # pprint(evals)\n",
    "\n",
    "    current_solution = evals[0][0]\n",
    "    choosen_probability.append(current_solution)\n",
    "    solutions_list.append(evals[0][1])\n",
    "\n",
    "    print(f\"Best result for generation {n+1} is:\", evals[0])\n",
    "\n",
    "\n",
    "val = np.array([[0.25], [0.25], [0.25], [0.25]])\n",
    "curve_names = [\"Shortest\", \"Longest\", \"Random\", \"Optimal\"]\n",
    "choosen_probability = np.array(choosen_probability)\n",
    "\n",
    "for i in range(GENERATION_SIZE):\n",
    "    val = np.hstack((val, choosen_probability[i].reshape(-1, 1)))\n",
    "\n",
    "for i in range(4):\n",
    "    plt.plot(range(GENERATION_SIZE + 1), val[i], label=curve_names[i])\n",
    "\n",
    "plt.xlabel(\"Generation\")\n",
    "plt.ylabel(\"Probability\")\n",
    "plt.legend()\n",
    "plt.show()\n",
    "\n",
    "\n",
    "plt.plot(range(GENERATION_SIZE), solutions_list)\n",
    "plt.xlabel(\"Generation\")\n",
    "plt.ylabel(\"Number of wins\")\n",
    "plt.show()\n",
    "\n"
   ]
  }
 ],
 "metadata": {
  "kernelspec": {
   "display_name": "Python 3.10.7 ('ci22-dPIXJ0_o-py3.10')",
   "language": "python",
   "name": "python3"
  },
  "language_info": {
   "codemirror_mode": {
    "name": "ipython",
    "version": 3
   },
   "file_extension": ".py",
   "mimetype": "text/x-python",
   "name": "python",
   "nbconvert_exporter": "python",
   "pygments_lexer": "ipython3",
   "version": "3.12.0"
  },
  "vscode": {
   "interpreter": {
    "hash": "10197e8e2f2aa67e2c349105091c77f4cd384fce4877865f002d9ec653f96bc0"
   }
  }
 },
 "nbformat": 4,
 "nbformat_minor": 2
}
