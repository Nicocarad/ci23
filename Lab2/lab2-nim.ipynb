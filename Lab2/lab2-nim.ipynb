{
 "cells": [
  {
   "cell_type": "markdown",
   "metadata": {
    "pycharm": {
     "name": "#%% md\n"
    }
   },
   "source": [
    "Copyright **`(c)`** 2022 Giovanni Squillero `<squillero@polito.it>`  \n",
    "[`https://github.com/squillero/computational-intelligence`](https://github.com/squillero/computational-intelligence)  \n",
    "Free for personal or classroom use; see [`LICENSE.md`](https://github.com/squillero/computational-intelligence/blob/master/LICENSE.md) for details.  \n"
   ]
  },
  {
   "cell_type": "markdown",
   "metadata": {
    "pycharm": {
     "name": "#%%\n"
    }
   },
   "source": [
    "# Lab 2: ES\n",
    "\n",
    "## Task\n",
    "\n",
    "Write agents able to play [*Nim*](https://en.wikipedia.org/wiki/Nim), with an arbitrary number of rows and an upper bound $k$ on the number of objects that can be removed in a turn (a.k.a., *subtraction game*).\n",
    "\n",
    "The goal of the game is to **avoid** taking the last object.\n",
    "\n",
    "* Task2.1: An agent using fixed rules based on *nim-sum* (i.e., an *expert system*)\n",
    "* Task2.2: An agent using evolved rules using ES\n",
    "\n",
    "## Instructions\n",
    "\n",
    "* Create the directory `lab2` inside the course repo \n",
    "* Put a `README.md` and your solution (all the files, code and auxiliary data if needed)\n",
    "\n",
    "## Notes\n",
    "\n",
    "* Working in group is not only allowed, but recommended (see: [Ubuntu](https://en.wikipedia.org/wiki/Ubuntu_philosophy) and [Cooperative Learning](https://files.eric.ed.gov/fulltext/EJ1096789.pdf)). Collaborations must be explicitly declared in the `README.md`.\n",
    "* [Yanking](https://www.emacswiki.org/emacs/KillingAndYanking) from the internet is allowed, but sources must be explicitly declared in the `README.md`.\n",
    "\n"
   ]
  },
  {
   "cell_type": "code",
   "execution_count": 189,
   "metadata": {},
   "outputs": [],
   "source": [
    "import logging\n",
    "from pprint import pprint, pformat\n",
    "from typing import Callable\n",
    "from collections import namedtuple\n",
    "import random\n",
    "from copy import deepcopy\n",
    "from random import gauss\n"
   ]
  },
  {
   "cell_type": "markdown",
   "metadata": {},
   "source": [
    "## The *Nim* and *Nimply* classes"
   ]
  },
  {
   "cell_type": "code",
   "execution_count": 190,
   "metadata": {},
   "outputs": [],
   "source": [
    "NUM_ROWS = 5\n",
    "K = None\n",
    "NUM_MATCHES = 100"
   ]
  },
  {
   "cell_type": "code",
   "execution_count": 191,
   "metadata": {},
   "outputs": [],
   "source": [
    "Nimply = namedtuple(\"Nimply\", \"row, num_objects\")\n"
   ]
  },
  {
   "cell_type": "code",
   "execution_count": 192,
   "metadata": {},
   "outputs": [],
   "source": [
    "class Nim:\n",
    "    def __init__(self, num_rows: int, k: int = None) -> None:\n",
    "        # Initialize the Nim object with given number of rows and an optional maximum object limit\n",
    "        self._rows = [i * 2 + 1 for i in range(num_rows)]   # Create a list of odd numbers as row sizes\n",
    "        self._k = k   # Store the maximum object limit\n",
    "\n",
    "    def __bool__(self):\n",
    "        # Return True if there are objects remaining in the game, False otherwise\n",
    "        return sum(self._rows) > 0\n",
    "\n",
    "    def __str__(self):\n",
    "        # Return a string representation of the object\n",
    "        return \"<\" + \" \".join(str(_) for _ in self._rows) + \">\"\n",
    "\n",
    "    @property\n",
    "    def rows(self) -> tuple:\n",
    "        # Return the rows as a tuple\n",
    "        return tuple(self._rows)\n",
    "\n",
    "    def nimming(self, ply: Nimply) -> None:\n",
    "        # Perform a nimming move by removing objects from a specified row\n",
    "        row, num_objects = ply   # Unpack the tuple\n",
    "        assert self._rows[row] >= num_objects   # Check if the specified row has enough objects\n",
    "        assert self._k is None or num_objects <= self._k   # Check if the number of objects is within the maximum limit\n",
    "        self._rows[row] -= num_objects   # Subtract the number of objects from the specified row\n",
    "\n"
   ]
  },
  {
   "cell_type": "markdown",
   "metadata": {},
   "source": [
    "## Sample (and silly) startegies "
   ]
  },
  {
   "cell_type": "code",
   "execution_count": 193,
   "metadata": {},
   "outputs": [],
   "source": [
    "\n",
    "def pure_random(state: Nim) -> Nimply:\n",
    "    \"\"\"A completely random move\"\"\"\n",
    "    # Select a row that has at least one object remaining\n",
    "    row = random.choice([r for r, c in enumerate(state.rows) if c > 0])\n",
    "    # Randomly choose a number of objects to remove from the selected row\n",
    "    num_objects = random.randint(1, state.rows[row])\n",
    "    # Create and return a Nimply object representing the chosen move\n",
    "    return Nimply(row, num_objects)\n",
    "\n"
   ]
  },
  {
   "cell_type": "code",
   "execution_count": 194,
   "metadata": {},
   "outputs": [],
   "source": [
    "def gabriele(state: Nim) -> Nimply:\n",
    "    \"\"\"Pick always the maximum possible number of the lowest row\"\"\"\n",
    "    # Generate a list of possible moves\n",
    "    possible_moves = [(r, o) for r, c in enumerate(state.rows) for o in range(1, c + 1)]\n",
    "    # Select the move with the maximum number of objects from the lowest row\n",
    "    return Nimply(*max(possible_moves, key=lambda m: (-m[0], m[1])))\n",
    "\n"
   ]
  },
  {
   "cell_type": "code",
   "execution_count": 195,
   "metadata": {},
   "outputs": [],
   "source": [
    "def adaptive(state: Nim) -> Nimply:\n",
    "    \"\"\"A strategy that can adapt its parameters\"\"\"\n",
    "    genome = {\"love_small\": 0.5}\n"
   ]
  },
  {
   "cell_type": "code",
   "execution_count": 196,
   "metadata": {},
   "outputs": [],
   "source": [
    "import numpy as np\n",
    "\n",
    "\n",
    "def nim_sum(state: Nim) -> int:\n",
    "    tmp = np.array([tuple(int(x) for x in f\"{c:032b}\") for c in state.rows])\n",
    "    xor = tmp.sum(axis=0) % 2\n",
    "    return int(\"\".join(str(_) for _ in xor), base=2)\n",
    "\n",
    "\n",
    "def analize(raw: Nim) -> dict:\n",
    "    cooked = dict()\n",
    "    cooked[\"possible_moves\"] = dict()\n",
    "    for ply in (Nimply(r, o) for r, c in enumerate(raw.rows) for o in range(1, c + 1)):\n",
    "        tmp = deepcopy(raw)\n",
    "        tmp.nimming(ply)\n",
    "        cooked[\"possible_moves\"][ply] = nim_sum(tmp)\n",
    "    return cooked\n",
    "\n",
    "\n",
    "def optimal(state: Nim) -> Nimply:\n",
    "    analysis = analize(state)\n",
    "    logging.debug(f\"analysis:\\n{pformat(analysis)}\")\n",
    "    spicy_moves = [ply for ply, ns in analysis[\"possible_moves\"].items() if ns != 0]\n",
    "    if not spicy_moves:\n",
    "        spicy_moves = list(analysis[\"possible_moves\"].keys())\n",
    "    ply = random.choice(spicy_moves)\n",
    "    return ply\n"
   ]
  },
  {
   "cell_type": "markdown",
   "metadata": {},
   "source": [
    "## Oversimplified match"
   ]
  },
  {
   "cell_type": "code",
   "execution_count": 197,
   "metadata": {},
   "outputs": [],
   "source": [
    "# logging.getLogger().setLevel(logging.INFO)\n",
    "\n",
    "# strategy = (optimal, pure_random)\n",
    "\n",
    "# nim = Nim(5) # define the game with 5 rows\n",
    "# logging.info(f\"init : {nim}\")\n",
    "# player = 0\n",
    "# while nim: # while the game is not over --> sum of all rows is not zero\n",
    "#     ply = strategy[player](nim) # get the move from the player 0\n",
    "#     logging.info(f\"ply: player {player} plays {ply}\")\n",
    "#     nim.nimming(ply) # perform the move\n",
    "#     logging.info(f\"status: {nim}\")\n",
    "#     player = 1 - player\n",
    "# logging.info(f\"status: Player {player} won!\")\n"
   ]
  },
  {
   "cell_type": "code",
   "execution_count": 198,
   "metadata": {},
   "outputs": [],
   "source": [
    "def state_info(state: Nim) -> dict:\n",
    "    info = dict()\n",
    "    info[\"possible_moves\"] = [\n",
    "        (r, o) for r, c in enumerate(state.rows) for o in range(1, c + 1) \n",
    "    ]\n",
    "    info[\"active_rows_number\"] = sum(o > 0 for o in state.rows)\n",
    "    info[\"shortest_row\"] = min((x for x in enumerate(state.rows) if x[1] > 0), key=lambda y: y[1])[0]\n",
    "    info[\"longest_row\"] = max((x for x in enumerate(state.rows)), key=lambda y: y[1])[0]\n",
    "    info[\"nim_sum\"] = nim_sum(state)\n",
    "\n",
    "    brute_force = list()\n",
    "    for m in info[\"possible_moves\"]:\n",
    "        tmp = deepcopy(state)\n",
    "        tmp.nimming(m)\n",
    "        brute_force.append((m, nim_sum(tmp)))\n",
    "    info[\"brute_force\"] = brute_force\n",
    "\n",
    "    return info"
   ]
  },
  {
   "cell_type": "code",
   "execution_count": 199,
   "metadata": {},
   "outputs": [],
   "source": [
    "def evolved_strategy(genome: float) -> Callable:\n",
    "    def evolvable(state: Nim) -> Nimply:\n",
    "        data = state_info(state)\n",
    "\n",
    "        if random.random() < genome:\n",
    "            ply = Nimply(data[\"shortest_row\"], random.randint(1, state.rows[data[\"shortest_row\"]]))\n",
    "        else:\n",
    "            ply = Nimply(data[\"longest_row\"], random.randint(1, state.rows[data[\"longest_row\"]]))\n",
    "\n",
    "        return ply\n",
    "\n",
    "    return evolvable"
   ]
  },
  {
   "cell_type": "code",
   "execution_count": 200,
   "metadata": {},
   "outputs": [],
   "source": [
    "def fitness(strategy: Callable) -> int:\n",
    "    won = 0\n",
    "    opponent = (strategy, optimal)\n",
    "\n",
    "    for _ in range(NUM_MATCHES):\n",
    "        nim = Nim(NUM_ROWS)\n",
    "        player = 0\n",
    "\n",
    "        while nim:\n",
    "            ply = opponent[player](nim)\n",
    "            nim.nimming(ply)  # perform the move\n",
    "            player ^= 1\n",
    "\n",
    "        if player == 0:\n",
    "            won += 1\n",
    "\n",
    "    return won  # return the number of matches won"
   ]
  },
  {
   "cell_type": "code",
   "execution_count": 201,
   "metadata": {},
   "outputs": [],
   "source": [
    "λ = 20\n",
    "σ = 0.1\n",
    "\n",
    "\n",
    "\n",
    "\n",
    "def generate_offsprings(offspring) -> list:\n",
    "    \n",
    "    offsprings = [np.clip(offspring + np.random.normal(0, σ), 0, 1) for _ in range(λ)]\n",
    "    offsprings.append(offspring)\n",
    "    \n",
    "    return offsprings\n",
    "\n",
    "\n",
    "\n",
    "    "
   ]
  },
  {
   "cell_type": "code",
   "execution_count": 202,
   "metadata": {},
   "outputs": [
    {
     "name": "stdout",
     "output_type": "stream",
     "text": [
      "Best result for generation 0 is: (0.8502388101532965, 31)\n",
      "Best result for generation 1 is: (0.6343280901710209, 33)\n"
     ]
    },
    {
     "ename": "KeyboardInterrupt",
     "evalue": "",
     "output_type": "error",
     "traceback": [
      "\u001b[1;31m---------------------------------------------------------------------------\u001b[0m",
      "\u001b[1;31mKeyboardInterrupt\u001b[0m                         Traceback (most recent call last)",
      "\u001b[1;32mc:\\Users\\Nicolò Caradonna\\Documents\\GitHub\\ci23\\Lab2\\lab2-nim.ipynb Cella 19\u001b[0m line \u001b[0;36m8\n\u001b[0;32m      <a href='vscode-notebook-cell:/c%3A/Users/Nicol%C3%B2%20Caradonna/Documents/GitHub/ci23/Lab2/lab2-nim.ipynb#X21sZmlsZQ%3D%3D?line=4'>5</a>\u001b[0m offsprings \u001b[39m=\u001b[39m generate_offsprings(current_solution)\n\u001b[0;32m      <a href='vscode-notebook-cell:/c%3A/Users/Nicol%C3%B2%20Caradonna/Documents/GitHub/ci23/Lab2/lab2-nim.ipynb#X21sZmlsZQ%3D%3D?line=6'>7</a>\u001b[0m \u001b[39m# evaluate and select best\u001b[39;00m\n\u001b[1;32m----> <a href='vscode-notebook-cell:/c%3A/Users/Nicol%C3%B2%20Caradonna/Documents/GitHub/ci23/Lab2/lab2-nim.ipynb#X21sZmlsZQ%3D%3D?line=7'>8</a>\u001b[0m evals \u001b[39m=\u001b[39m [(offspring, fitness(evolved_strategy(offspring))) \u001b[39mfor\u001b[39;00m offspring \u001b[39min\u001b[39;00m offsprings]\n\u001b[0;32m      <a href='vscode-notebook-cell:/c%3A/Users/Nicol%C3%B2%20Caradonna/Documents/GitHub/ci23/Lab2/lab2-nim.ipynb#X21sZmlsZQ%3D%3D?line=8'>9</a>\u001b[0m evals\u001b[39m.\u001b[39msort(key\u001b[39m=\u001b[39m\u001b[39mlambda\u001b[39;00m x: x[\u001b[39m1\u001b[39m], reverse\u001b[39m=\u001b[39m\u001b[39mTrue\u001b[39;00m)\n\u001b[0;32m     <a href='vscode-notebook-cell:/c%3A/Users/Nicol%C3%B2%20Caradonna/Documents/GitHub/ci23/Lab2/lab2-nim.ipynb#X21sZmlsZQ%3D%3D?line=9'>10</a>\u001b[0m current_solution \u001b[39m=\u001b[39m evals[\u001b[39m0\u001b[39m][\u001b[39m0\u001b[39m]\n",
      "\u001b[1;32mc:\\Users\\Nicolò Caradonna\\Documents\\GitHub\\ci23\\Lab2\\lab2-nim.ipynb Cella 19\u001b[0m line \u001b[0;36m1\n\u001b[0;32m      <a href='vscode-notebook-cell:/c%3A/Users/Nicol%C3%B2%20Caradonna/Documents/GitHub/ci23/Lab2/lab2-nim.ipynb#X21sZmlsZQ%3D%3D?line=6'>7</a>\u001b[0m player \u001b[39m=\u001b[39m \u001b[39m0\u001b[39m\n\u001b[0;32m      <a href='vscode-notebook-cell:/c%3A/Users/Nicol%C3%B2%20Caradonna/Documents/GitHub/ci23/Lab2/lab2-nim.ipynb#X21sZmlsZQ%3D%3D?line=8'>9</a>\u001b[0m \u001b[39mwhile\u001b[39;00m nim:\n\u001b[1;32m---> <a href='vscode-notebook-cell:/c%3A/Users/Nicol%C3%B2%20Caradonna/Documents/GitHub/ci23/Lab2/lab2-nim.ipynb#X21sZmlsZQ%3D%3D?line=9'>10</a>\u001b[0m     ply \u001b[39m=\u001b[39m opponent[player](nim)\n\u001b[0;32m     <a href='vscode-notebook-cell:/c%3A/Users/Nicol%C3%B2%20Caradonna/Documents/GitHub/ci23/Lab2/lab2-nim.ipynb#X21sZmlsZQ%3D%3D?line=10'>11</a>\u001b[0m     nim\u001b[39m.\u001b[39mnimming(ply)  \u001b[39m# perform the move\u001b[39;00m\n\u001b[0;32m     <a href='vscode-notebook-cell:/c%3A/Users/Nicol%C3%B2%20Caradonna/Documents/GitHub/ci23/Lab2/lab2-nim.ipynb#X21sZmlsZQ%3D%3D?line=11'>12</a>\u001b[0m     player \u001b[39m^\u001b[39m\u001b[39m=\u001b[39m \u001b[39m1\u001b[39m\n",
      "\u001b[1;32mc:\\Users\\Nicolò Caradonna\\Documents\\GitHub\\ci23\\Lab2\\lab2-nim.ipynb Cella 19\u001b[0m line \u001b[0;36m3\n\u001b[0;32m      <a href='vscode-notebook-cell:/c%3A/Users/Nicol%C3%B2%20Caradonna/Documents/GitHub/ci23/Lab2/lab2-nim.ipynb#X21sZmlsZQ%3D%3D?line=1'>2</a>\u001b[0m \u001b[39mdef\u001b[39;00m \u001b[39mevolvable\u001b[39m(state: Nim) \u001b[39m-\u001b[39m\u001b[39m>\u001b[39m Nimply:\n\u001b[1;32m----> <a href='vscode-notebook-cell:/c%3A/Users/Nicol%C3%B2%20Caradonna/Documents/GitHub/ci23/Lab2/lab2-nim.ipynb#X21sZmlsZQ%3D%3D?line=2'>3</a>\u001b[0m     data \u001b[39m=\u001b[39m state_info(state)\n\u001b[0;32m      <a href='vscode-notebook-cell:/c%3A/Users/Nicol%C3%B2%20Caradonna/Documents/GitHub/ci23/Lab2/lab2-nim.ipynb#X21sZmlsZQ%3D%3D?line=4'>5</a>\u001b[0m     \u001b[39mif\u001b[39;00m random\u001b[39m.\u001b[39mrandom() \u001b[39m<\u001b[39m genome:\n\u001b[0;32m      <a href='vscode-notebook-cell:/c%3A/Users/Nicol%C3%B2%20Caradonna/Documents/GitHub/ci23/Lab2/lab2-nim.ipynb#X21sZmlsZQ%3D%3D?line=5'>6</a>\u001b[0m         ply \u001b[39m=\u001b[39m Nimply(data[\u001b[39m\"\u001b[39m\u001b[39mshortest_row\u001b[39m\u001b[39m\"\u001b[39m], random\u001b[39m.\u001b[39mrandint(\u001b[39m1\u001b[39m, state\u001b[39m.\u001b[39mrows[data[\u001b[39m\"\u001b[39m\u001b[39mshortest_row\u001b[39m\u001b[39m\"\u001b[39m]]))\n",
      "\u001b[1;32mc:\\Users\\Nicolò Caradonna\\Documents\\GitHub\\ci23\\Lab2\\lab2-nim.ipynb Cella 19\u001b[0m line \u001b[0;36m9\n\u001b[0;32m      <a href='vscode-notebook-cell:/c%3A/Users/Nicol%C3%B2%20Caradonna/Documents/GitHub/ci23/Lab2/lab2-nim.ipynb#X21sZmlsZQ%3D%3D?line=6'>7</a>\u001b[0m info[\u001b[39m\"\u001b[39m\u001b[39mshortest_row\u001b[39m\u001b[39m\"\u001b[39m] \u001b[39m=\u001b[39m \u001b[39mmin\u001b[39m((x \u001b[39mfor\u001b[39;00m x \u001b[39min\u001b[39;00m \u001b[39menumerate\u001b[39m(state\u001b[39m.\u001b[39mrows) \u001b[39mif\u001b[39;00m x[\u001b[39m1\u001b[39m] \u001b[39m>\u001b[39m \u001b[39m0\u001b[39m), key\u001b[39m=\u001b[39m\u001b[39mlambda\u001b[39;00m y: y[\u001b[39m1\u001b[39m])[\u001b[39m0\u001b[39m]\n\u001b[0;32m      <a href='vscode-notebook-cell:/c%3A/Users/Nicol%C3%B2%20Caradonna/Documents/GitHub/ci23/Lab2/lab2-nim.ipynb#X21sZmlsZQ%3D%3D?line=7'>8</a>\u001b[0m info[\u001b[39m\"\u001b[39m\u001b[39mlongest_row\u001b[39m\u001b[39m\"\u001b[39m] \u001b[39m=\u001b[39m \u001b[39mmax\u001b[39m((x \u001b[39mfor\u001b[39;00m x \u001b[39min\u001b[39;00m \u001b[39menumerate\u001b[39m(state\u001b[39m.\u001b[39mrows)), key\u001b[39m=\u001b[39m\u001b[39mlambda\u001b[39;00m y: y[\u001b[39m1\u001b[39m])[\u001b[39m0\u001b[39m]\n\u001b[1;32m----> <a href='vscode-notebook-cell:/c%3A/Users/Nicol%C3%B2%20Caradonna/Documents/GitHub/ci23/Lab2/lab2-nim.ipynb#X21sZmlsZQ%3D%3D?line=8'>9</a>\u001b[0m info[\u001b[39m\"\u001b[39m\u001b[39mnim_sum\u001b[39m\u001b[39m\"\u001b[39m] \u001b[39m=\u001b[39m nim_sum(state)\n\u001b[0;32m     <a href='vscode-notebook-cell:/c%3A/Users/Nicol%C3%B2%20Caradonna/Documents/GitHub/ci23/Lab2/lab2-nim.ipynb#X21sZmlsZQ%3D%3D?line=10'>11</a>\u001b[0m brute_force \u001b[39m=\u001b[39m \u001b[39mlist\u001b[39m()\n\u001b[0;32m     <a href='vscode-notebook-cell:/c%3A/Users/Nicol%C3%B2%20Caradonna/Documents/GitHub/ci23/Lab2/lab2-nim.ipynb#X21sZmlsZQ%3D%3D?line=11'>12</a>\u001b[0m \u001b[39mfor\u001b[39;00m m \u001b[39min\u001b[39;00m info[\u001b[39m\"\u001b[39m\u001b[39mpossible_moves\u001b[39m\u001b[39m\"\u001b[39m]:\n",
      "\u001b[1;32mc:\\Users\\Nicolò Caradonna\\Documents\\GitHub\\ci23\\Lab2\\lab2-nim.ipynb Cella 19\u001b[0m line \u001b[0;36m5\n\u001b[0;32m      <a href='vscode-notebook-cell:/c%3A/Users/Nicol%C3%B2%20Caradonna/Documents/GitHub/ci23/Lab2/lab2-nim.ipynb#X21sZmlsZQ%3D%3D?line=3'>4</a>\u001b[0m \u001b[39mdef\u001b[39;00m \u001b[39mnim_sum\u001b[39m(state: Nim) \u001b[39m-\u001b[39m\u001b[39m>\u001b[39m \u001b[39mint\u001b[39m:\n\u001b[1;32m----> <a href='vscode-notebook-cell:/c%3A/Users/Nicol%C3%B2%20Caradonna/Documents/GitHub/ci23/Lab2/lab2-nim.ipynb#X21sZmlsZQ%3D%3D?line=4'>5</a>\u001b[0m     tmp \u001b[39m=\u001b[39m np\u001b[39m.\u001b[39marray([\u001b[39mtuple\u001b[39;49m(\u001b[39mint\u001b[39;49m(x) \u001b[39mfor\u001b[39;49;00m x \u001b[39min\u001b[39;49;00m \u001b[39mf\u001b[39;49m\u001b[39m\"\u001b[39;49m\u001b[39m{\u001b[39;49;00mc\u001b[39m:\u001b[39;49;00m\u001b[39m032b\u001b[39;49m\u001b[39m}\u001b[39;49;00m\u001b[39m\"\u001b[39;49m) \u001b[39mfor\u001b[39;00m c \u001b[39min\u001b[39;00m state\u001b[39m.\u001b[39mrows])\n\u001b[0;32m      <a href='vscode-notebook-cell:/c%3A/Users/Nicol%C3%B2%20Caradonna/Documents/GitHub/ci23/Lab2/lab2-nim.ipynb#X21sZmlsZQ%3D%3D?line=5'>6</a>\u001b[0m     xor \u001b[39m=\u001b[39m tmp\u001b[39m.\u001b[39msum(axis\u001b[39m=\u001b[39m\u001b[39m0\u001b[39m) \u001b[39m%\u001b[39m \u001b[39m2\u001b[39m\n\u001b[0;32m      <a href='vscode-notebook-cell:/c%3A/Users/Nicol%C3%B2%20Caradonna/Documents/GitHub/ci23/Lab2/lab2-nim.ipynb#X21sZmlsZQ%3D%3D?line=6'>7</a>\u001b[0m     \u001b[39mreturn\u001b[39;00m \u001b[39mint\u001b[39m(\u001b[39m\"\u001b[39m\u001b[39m\"\u001b[39m\u001b[39m.\u001b[39mjoin(\u001b[39mstr\u001b[39m(_) \u001b[39mfor\u001b[39;00m _ \u001b[39min\u001b[39;00m xor), base\u001b[39m=\u001b[39m\u001b[39m2\u001b[39m)\n",
      "\u001b[1;32mc:\\Users\\Nicolò Caradonna\\Documents\\GitHub\\ci23\\Lab2\\lab2-nim.ipynb Cella 19\u001b[0m line \u001b[0;36m5\n\u001b[0;32m      <a href='vscode-notebook-cell:/c%3A/Users/Nicol%C3%B2%20Caradonna/Documents/GitHub/ci23/Lab2/lab2-nim.ipynb#X21sZmlsZQ%3D%3D?line=3'>4</a>\u001b[0m \u001b[39mdef\u001b[39;00m \u001b[39mnim_sum\u001b[39m(state: Nim) \u001b[39m-\u001b[39m\u001b[39m>\u001b[39m \u001b[39mint\u001b[39m:\n\u001b[1;32m----> <a href='vscode-notebook-cell:/c%3A/Users/Nicol%C3%B2%20Caradonna/Documents/GitHub/ci23/Lab2/lab2-nim.ipynb#X21sZmlsZQ%3D%3D?line=4'>5</a>\u001b[0m     tmp \u001b[39m=\u001b[39m np\u001b[39m.\u001b[39marray([\u001b[39mtuple\u001b[39m(\u001b[39mint\u001b[39m(x) \u001b[39mfor\u001b[39;00m x \u001b[39min\u001b[39;00m \u001b[39mf\u001b[39m\u001b[39m\"\u001b[39m\u001b[39m{\u001b[39;00mc\u001b[39m:\u001b[39;00m\u001b[39m032b\u001b[39m\u001b[39m}\u001b[39;00m\u001b[39m\"\u001b[39m) \u001b[39mfor\u001b[39;00m c \u001b[39min\u001b[39;00m state\u001b[39m.\u001b[39mrows])\n\u001b[0;32m      <a href='vscode-notebook-cell:/c%3A/Users/Nicol%C3%B2%20Caradonna/Documents/GitHub/ci23/Lab2/lab2-nim.ipynb#X21sZmlsZQ%3D%3D?line=5'>6</a>\u001b[0m     xor \u001b[39m=\u001b[39m tmp\u001b[39m.\u001b[39msum(axis\u001b[39m=\u001b[39m\u001b[39m0\u001b[39m) \u001b[39m%\u001b[39m \u001b[39m2\u001b[39m\n\u001b[0;32m      <a href='vscode-notebook-cell:/c%3A/Users/Nicol%C3%B2%20Caradonna/Documents/GitHub/ci23/Lab2/lab2-nim.ipynb#X21sZmlsZQ%3D%3D?line=6'>7</a>\u001b[0m     \u001b[39mreturn\u001b[39;00m \u001b[39mint\u001b[39m(\u001b[39m\"\u001b[39m\u001b[39m\"\u001b[39m\u001b[39m.\u001b[39mjoin(\u001b[39mstr\u001b[39m(_) \u001b[39mfor\u001b[39;00m _ \u001b[39min\u001b[39;00m xor), base\u001b[39m=\u001b[39m\u001b[39m2\u001b[39m)\n",
      "\u001b[1;31mKeyboardInterrupt\u001b[0m: "
     ]
    }
   ],
   "source": [
    "\n",
    "\n",
    "current_solution = np.random.uniform(0, 1)\n",
    "\n",
    "for n in range(1000 // λ):\n",
    "    # offspring <- select λ random points mutating the current solution\n",
    "    offsprings = generate_offsprings(current_solution)\n",
    "    \n",
    "    # evaluate and select best\n",
    "    evals = [(offspring, fitness(evolved_strategy(offspring))) for offspring in offsprings]\n",
    "    evals.sort(key=lambda x: x[1], reverse=True)\n",
    "    current_solution = evals[0][0]\n",
    "    print(f\"Best result for generation {n+1} is:\", evals[0])\n",
    "    \n",
    "\n",
    "    \n",
    "    \n",
    "\n",
    "\n",
    "# if state.k is None or o <= state.k\n"
   ]
  }
 ],
 "metadata": {
  "kernelspec": {
   "display_name": "Python 3.10.7 ('ci22-dPIXJ0_o-py3.10')",
   "language": "python",
   "name": "python3"
  },
  "language_info": {
   "codemirror_mode": {
    "name": "ipython",
    "version": 3
   },
   "file_extension": ".py",
   "mimetype": "text/x-python",
   "name": "python",
   "nbconvert_exporter": "python",
   "pygments_lexer": "ipython3",
   "version": "3.12.0"
  },
  "vscode": {
   "interpreter": {
    "hash": "10197e8e2f2aa67e2c349105091c77f4cd384fce4877865f002d9ec653f96bc0"
   }
  }
 },
 "nbformat": 4,
 "nbformat_minor": 2
}
