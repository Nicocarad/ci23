{
 "cells": [
  {
   "cell_type": "markdown",
   "id": "185f9931-b384-4fdc-a5b2-eea785428bb8",
   "metadata": {},
   "source": [
    "Copyright **`(c)`** 2023 Giovanni Squillero `<giovanni.squillero@polito.it>`  \n",
    "[`https://github.com/squillero/computational-intelligence`](https://github.com/squillero/computational-intelligence)  \n",
    "Free for personal or classroom use; see [`LICENSE.md`](https://github.com/squillero/computational-intelligence/blob/master/LICENSE.md) for details.  "
   ]
  },
  {
   "cell_type": "code",
   "execution_count": 478,
   "id": "3ffe7245-e849-41d0-9698-5f0e0b83fee9",
   "metadata": {},
   "outputs": [],
   "source": [
    "from itertools import product\n",
    "from random import random, randint, shuffle, seed\n",
    "import numpy as np\n",
    "from scipy import sparse\n",
    "from random import random, choice, randint\n",
    "from functools import reduce\n",
    "from collections import namedtuple\n",
    "from copy import copy\n",
    "import math"
   ]
  },
  {
   "cell_type": "code",
   "execution_count": 479,
   "id": "9c35ab49",
   "metadata": {},
   "outputs": [],
   "source": [
    "num_points = [100, 1_000, 5_000]\n",
    "num_sets = num_points\n",
    "density = [.3, .7] "
   ]
  },
  {
   "cell_type": "code",
   "execution_count": 480,
   "id": "6f03bd67-78a0-4d72-95b7-77a918727b91",
   "metadata": {},
   "outputs": [],
   "source": [
    "def make_set_covering_problem(num_points, num_sets, density):\n",
    "    \"\"\"Returns a sparse array where rows are sets and columns are the covered items\"\"\"\n",
    "    seed(num_points*2654435761+num_sets+density)\n",
    "    sets = sparse.lil_array((num_sets, num_points), dtype=bool)\n",
    "    for s, p in product(range(num_sets), range(num_points)):\n",
    "        if random() < density:\n",
    "            sets[s, p] = True\n",
    "    for p in range(num_points):\n",
    "        sets[randint(0, num_sets-1), p] = True\n",
    "    return sets"
   ]
  },
  {
   "cell_type": "markdown",
   "id": "82b0be37-21d9-492d-9a1d-cf0cdf0ddd76",
   "metadata": {},
   "source": [
    "# Halloween Challenge\n",
    "\n",
    "Find the best solution with the fewest calls to the fitness functions for:\n",
    "\n",
    "* `num_points = [100, 1_000, 5_000]`\n",
    "* `num_sets = num_points`\n",
    "* `density = [.3, .7]` "
   ]
  },
  {
   "cell_type": "code",
   "execution_count": 481,
   "id": "c5c22b23",
   "metadata": {},
   "outputs": [],
   "source": [
    "SETS = make_set_covering_problem(num_points[1], num_sets[1], density[1])"
   ]
  },
  {
   "cell_type": "markdown",
   "id": "d0050336",
   "metadata": {},
   "source": [
    "# Hill-Climbing"
   ]
  },
  {
   "cell_type": "code",
   "execution_count": 482,
   "id": "c932c1ef",
   "metadata": {},
   "outputs": [],
   "source": [
    "def evaluate(state):\n",
    "    cost = sum(state) \n",
    "    valid = np.all(\n",
    "        reduce(\n",
    "            np.logical_or,\n",
    "            [SETS.getrow(i).toarray().flatten() for i, t in enumerate(state) if t],\n",
    "            np.array([False for _ in range(num_points[1])]),\n",
    "        )\n",
    "    ) \n",
    "    return valid, -cost if valid else 0 "
   ]
  },
  {
   "cell_type": "code",
   "execution_count": null,
   "id": "a8a4b9ea",
   "metadata": {},
   "outputs": [],
   "source": []
  },
  {
   "cell_type": "code",
   "execution_count": 483,
   "id": "8d6183e0",
   "metadata": {},
   "outputs": [],
   "source": [
    "def tweak(state):\n",
    "    new_state = copy(state)\n",
    "    index = randint(0, num_sets[1] - 1)\n",
    "    new_state[index] = not new_state[index]\n",
    "\n",
    "    return new_state"
   ]
  },
  {
   "cell_type": "code",
   "execution_count": 484,
   "id": "6492337b-8429-472d-9c3e-c79c5b46da54",
   "metadata": {},
   "outputs": [
    {
     "name": "stdout",
     "output_type": "stream",
     "text": [
      "Final state: (True, -228)\n"
     ]
    }
   ],
   "source": [
    "\n",
    "current_state = [choice([True, False]) for _ in range(num_sets[1])]\n",
    "\n",
    "\n",
    "for step in range(800):\n",
    "    new_state = tweak(current_state)\n",
    "    if evaluate(new_state) >= evaluate(current_state):\n",
    "        current_state = new_state\n",
    "        # print(current_state, evaluate(current_state))\n",
    "\n",
    "print(\"Final state:\", evaluate(current_state))"
   ]
  },
  {
   "cell_type": "markdown",
   "id": "f939c0c3",
   "metadata": {},
   "source": [
    "# Simulated Annealing"
   ]
  },
  {
   "cell_type": "code",
   "execution_count": 485,
   "id": "5c3f4e98",
   "metadata": {},
   "outputs": [],
   "source": [
    "def acceptance_probability(current_solution, tweaked_solution, temp):\n",
    "    return math.exp(-abs(current_solution[1] - tweaked_solution[1]) / temp)"
   ]
  },
  {
   "cell_type": "code",
   "execution_count": 486,
   "id": "a44acf38",
   "metadata": {},
   "outputs": [
    {
     "name": "stdout",
     "output_type": "stream",
     "text": [
      "Final state: (True, -388)\n"
     ]
    }
   ],
   "source": [
    "current_state = [choice([True, False]) for _ in range(num_sets[1])]\n",
    "\n",
    "iterations = 800\n",
    "\n",
    "for step in range(iterations):\n",
    "    new_state = tweak(current_state)\n",
    "    temp = iterations / (step + 1)\n",
    "    p = acceptance_probability(evaluate(current_state), evaluate(new_state), temp)\n",
    "    if evaluate(new_state) >= evaluate(current_state) or random() < p:\n",
    "        current_state = new_state\n",
    "        # print(current_state, evaluate(current_state))\n",
    "\n",
    "print(\"Final state:\", evaluate(current_state))"
   ]
  }
 ],
 "metadata": {
  "kernelspec": {
   "display_name": "Python 3 (ipykernel)",
   "language": "python",
   "name": "python3"
  },
  "language_info": {
   "codemirror_mode": {
    "name": "ipython",
    "version": 3
   },
   "file_extension": ".py",
   "mimetype": "text/x-python",
   "name": "python",
   "nbconvert_exporter": "python",
   "pygments_lexer": "ipython3",
   "version": "3.12.0"
  }
 },
 "nbformat": 4,
 "nbformat_minor": 5
}
